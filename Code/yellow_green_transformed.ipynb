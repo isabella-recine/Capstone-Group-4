{
 "cells": [
  {
   "cell_type": "code",
   "execution_count": 0,
   "metadata": {
    "application/vnd.databricks.v1+cell": {
     "cellMetadata": {
      "byteLimit": 2048000,
      "rowLimit": 10000
     },
     "inputWidgets": {},
     "nuid": "aa6f1b2b-58be-47b2-9ddd-8c4a2865896c",
     "showTitle": false,
     "title": ""
    }
   },
   "outputs": [],
   "source": [
    "from pyspark.sql import SparkSession\n",
    "from pyspark.sql.functions import *"
   ]
  },
  {
   "cell_type": "code",
   "execution_count": 0,
   "metadata": {
    "application/vnd.databricks.v1+cell": {
     "cellMetadata": {
      "byteLimit": 2048000,
      "rowLimit": 10000
     },
     "inputWidgets": {},
     "nuid": "f882b870-f041-4243-a580-c0f92dda5fbc",
     "showTitle": false,
     "title": ""
    }
   },
   "outputs": [],
   "source": [
    "# Load AWS Credentials\n",
    "spark.conf.set(\"fs.s3a.access.key\", \"\")\n",
    "spark.conf.set(\"fs.s3a.secret.key\", \"\")"
   ]
  },
  {
   "cell_type": "code",
   "execution_count": 0,
   "metadata": {
    "application/vnd.databricks.v1+cell": {
     "cellMetadata": {
      "byteLimit": 2048000,
      "rowLimit": 10000
     },
     "inputWidgets": {},
     "nuid": "8b64cddc-e8c3-49a6-9c75-7416fb732a3a",
     "showTitle": false,
     "title": ""
    }
   },
   "outputs": [],
   "source": [
    "# Read joined dataframe\n",
    "taxi_df = spark.read.option(\"recursiveFileLookup\", \"true\").parquet(\"s3://capstone-techcatalyst-conformed/group4/taxi_data/*\",multiLine=True, encoding=\"utf8\")"
   ]
  },
  {
   "cell_type": "code",
   "execution_count": 0,
   "metadata": {
    "application/vnd.databricks.v1+cell": {
     "cellMetadata": {
      "byteLimit": 2048000,
      "rowLimit": 10000
     },
     "inputWidgets": {},
     "nuid": "395302e6-d52c-433c-b6f9-aad1b50a3046",
     "showTitle": false,
     "title": ""
    }
   },
   "outputs": [
    {
     "output_type": "display_data",
     "data": {
      "text/html": [
       "<style scoped>\n",
       "  .table-result-container {\n",
       "    max-height: 300px;\n",
       "    overflow: auto;\n",
       "  }\n",
       "  table, th, td {\n",
       "    border: 1px solid black;\n",
       "    border-collapse: collapse;\n",
       "  }\n",
       "  th, td {\n",
       "    padding: 5px;\n",
       "  }\n",
       "  th {\n",
       "    text-align: left;\n",
       "  }\n",
       "</style><div class='table-result-container'><table class='table-result'><thead style='background-color: white'><tr><th>VendorID</th><th>pickup_datetime</th><th>dropoff_datetime</th><th>passenger_count</th><th>trip_distance</th><th>RatecodeID</th><th>store_and_fwd_flag</th><th>PULocationID</th><th>DOLocationID</th><th>payment_type</th><th>fare_amount</th><th>extra</th><th>mta_tax</th><th>tip_amount</th><th>tolls_amount</th><th>improvement_surcharge</th><th>total_amount</th><th>congestion_surcharge</th><th>Airport_fee</th><th>ehail_fee</th><th>trip_type</th><th>Taxi_Type</th><th>date</th><th>year</th><th>month</th><th>day_of_month</th><th>day_of_week</th><th>is_weekend</th><th>trip_duration</th></tr></thead><tbody><tr><td>0</td><td>0</td><td>0</td><td>0</td><td>0</td><td>2204270</td><td>2204270</td><td>0</td><td>0</td><td>31234</td><td>0</td><td>0</td><td>0</td><td>0</td><td>0</td><td>0</td><td>0</td><td>0</td><td>544905</td><td>30423026</td><td>29909403</td><td>0</td><td>0</td><td>0</td><td>0</td><td>0</td><td>0</td><td>0</td><td>0</td></tr></tbody></table></div>"
      ]
     },
     "metadata": {
      "application/vnd.databricks.v1+output": {
       "addedWidgets": {},
       "aggData": [],
       "aggError": "",
       "aggOverflow": false,
       "aggSchema": [],
       "aggSeriesLimitReached": false,
       "aggType": "",
       "arguments": {},
       "columnCustomDisplayInfos": {},
       "data": [
        [
         0,
         0,
         0,
         0,
         0,
         2204270,
         2204270,
         0,
         0,
         31234,
         0,
         0,
         0,
         0,
         0,
         0,
         0,
         0,
         544905,
         30423026,
         29909403,
         0,
         0,
         0,
         0,
         0,
         0,
         0,
         0
        ]
       ],
       "datasetInfos": [],
       "dbfsResultPath": null,
       "isJsonSchema": true,
       "metadata": {},
       "overflow": false,
       "plotOptions": {
        "customPlotOptions": {},
        "displayType": "table",
        "pivotAggregation": null,
        "pivotColumns": null,
        "xColumns": null,
        "yColumns": null
       },
       "removedWidgets": [],
       "schema": [
        {
         "metadata": "{}",
         "name": "VendorID",
         "type": "\"long\""
        },
        {
         "metadata": "{}",
         "name": "pickup_datetime",
         "type": "\"long\""
        },
        {
         "metadata": "{}",
         "name": "dropoff_datetime",
         "type": "\"long\""
        },
        {
         "metadata": "{}",
         "name": "passenger_count",
         "type": "\"long\""
        },
        {
         "metadata": "{}",
         "name": "trip_distance",
         "type": "\"long\""
        },
        {
         "metadata": "{}",
         "name": "RatecodeID",
         "type": "\"long\""
        },
        {
         "metadata": "{}",
         "name": "store_and_fwd_flag",
         "type": "\"long\""
        },
        {
         "metadata": "{}",
         "name": "PULocationID",
         "type": "\"long\""
        },
        {
         "metadata": "{}",
         "name": "DOLocationID",
         "type": "\"long\""
        },
        {
         "metadata": "{}",
         "name": "payment_type",
         "type": "\"long\""
        },
        {
         "metadata": "{}",
         "name": "fare_amount",
         "type": "\"long\""
        },
        {
         "metadata": "{}",
         "name": "extra",
         "type": "\"long\""
        },
        {
         "metadata": "{}",
         "name": "mta_tax",
         "type": "\"long\""
        },
        {
         "metadata": "{}",
         "name": "tip_amount",
         "type": "\"long\""
        },
        {
         "metadata": "{}",
         "name": "tolls_amount",
         "type": "\"long\""
        },
        {
         "metadata": "{}",
         "name": "improvement_surcharge",
         "type": "\"long\""
        },
        {
         "metadata": "{}",
         "name": "total_amount",
         "type": "\"long\""
        },
        {
         "metadata": "{}",
         "name": "congestion_surcharge",
         "type": "\"long\""
        },
        {
         "metadata": "{}",
         "name": "Airport_fee",
         "type": "\"long\""
        },
        {
         "metadata": "{}",
         "name": "ehail_fee",
         "type": "\"long\""
        },
        {
         "metadata": "{}",
         "name": "trip_type",
         "type": "\"long\""
        },
        {
         "metadata": "{}",
         "name": "Taxi_Type",
         "type": "\"long\""
        },
        {
         "metadata": "{}",
         "name": "date",
         "type": "\"long\""
        },
        {
         "metadata": "{}",
         "name": "year",
         "type": "\"long\""
        },
        {
         "metadata": "{}",
         "name": "month",
         "type": "\"long\""
        },
        {
         "metadata": "{}",
         "name": "day_of_month",
         "type": "\"long\""
        },
        {
         "metadata": "{}",
         "name": "day_of_week",
         "type": "\"long\""
        },
        {
         "metadata": "{}",
         "name": "is_weekend",
         "type": "\"long\""
        },
        {
         "metadata": "{}",
         "name": "trip_duration",
         "type": "\"long\""
        }
       ],
       "type": "table"
      }
     },
     "output_type": "display_data"
    }
   ],
   "source": [
    "# Count null values in each column\n",
    "display(taxi_df.select([sum(col(c).isNull().cast(\"integer\")).alias(c) for c in taxi_df.columns]))"
   ]
  },
  {
   "cell_type": "code",
   "execution_count": 0,
   "metadata": {
    "application/vnd.databricks.v1+cell": {
     "cellMetadata": {
      "byteLimit": 2048000,
      "rowLimit": 10000
     },
     "inputWidgets": {},
     "nuid": "60faafcd-654e-440c-9254-2e0aed758d2c",
     "showTitle": false,
     "title": ""
    }
   },
   "outputs": [],
   "source": [
    "# Fill the null values in Airport_fee with 0\n",
    "taxi_df = taxi_df.fillna({'Airport_fee':0})"
   ]
  },
  {
   "cell_type": "code",
   "execution_count": 0,
   "metadata": {
    "application/vnd.databricks.v1+cell": {
     "cellMetadata": {
      "byteLimit": 2048000,
      "rowLimit": 10000
     },
     "inputWidgets": {},
     "nuid": "07670b48-f780-40f0-a61f-12d6a6ebe621",
     "showTitle": false,
     "title": ""
    }
   },
   "outputs": [],
   "source": [
    "# Drop ehail_fee and trip_type\n",
    "taxi_df = taxi_df.drop('ehail_fee', 'trip_type')"
   ]
  },
  {
   "cell_type": "code",
   "execution_count": 0,
   "metadata": {
    "application/vnd.databricks.v1+cell": {
     "cellMetadata": {
      "byteLimit": 2048000,
      "rowLimit": 10000
     },
     "inputWidgets": {},
     "nuid": "32ede276-1db2-4254-88ac-16a243248ea6",
     "showTitle": false,
     "title": ""
    }
   },
   "outputs": [],
   "source": [
    "# fill the null values in store_and_fwd_flag with N \n",
    "taxi_df = taxi_df.fillna({'store_and_fwd_flag':'N'})"
   ]
  },
  {
   "cell_type": "code",
   "execution_count": 0,
   "metadata": {
    "application/vnd.databricks.v1+cell": {
     "cellMetadata": {
      "byteLimit": 2048000,
      "rowLimit": 10000
     },
     "inputWidgets": {},
     "nuid": "191e2819-53ff-466d-bbf6-0ba5060744a8",
     "showTitle": false,
     "title": ""
    }
   },
   "outputs": [
    {
     "output_type": "display_data",
     "data": {
      "text/html": [
       "<style scoped>\n",
       "  .table-result-container {\n",
       "    max-height: 300px;\n",
       "    overflow: auto;\n",
       "  }\n",
       "  table, th, td {\n",
       "    border: 1px solid black;\n",
       "    border-collapse: collapse;\n",
       "  }\n",
       "  th, td {\n",
       "    padding: 5px;\n",
       "  }\n",
       "  th {\n",
       "    text-align: left;\n",
       "  }\n",
       "</style><div class='table-result-container'><table class='table-result'><thead style='background-color: white'><tr><th>VendorID</th><th>pickup_datetime</th><th>dropoff_datetime</th><th>passenger_count</th><th>trip_distance</th><th>RatecodeID</th><th>store_and_fwd_flag</th><th>PULocationID</th><th>DOLocationID</th><th>payment_type</th><th>fare_amount</th><th>extra</th><th>mta_tax</th><th>tip_amount</th><th>tolls_amount</th><th>improvement_surcharge</th><th>total_amount</th><th>congestion_surcharge</th><th>Airport_fee</th><th>Taxi_Type</th><th>date</th><th>year</th><th>month</th><th>day_of_month</th><th>day_of_week</th><th>is_weekend</th><th>trip_duration</th></tr></thead><tbody><tr><td>0</td><td>0</td><td>0</td><td>0</td><td>0</td><td>2204270</td><td>0</td><td>0</td><td>0</td><td>31234</td><td>0</td><td>0</td><td>0</td><td>0</td><td>0</td><td>0</td><td>0</td><td>0</td><td>0</td><td>0</td><td>0</td><td>0</td><td>0</td><td>0</td><td>0</td><td>0</td><td>0</td></tr></tbody></table></div>"
      ]
     },
     "metadata": {
      "application/vnd.databricks.v1+output": {
       "addedWidgets": {},
       "aggData": [],
       "aggError": "",
       "aggOverflow": false,
       "aggSchema": [],
       "aggSeriesLimitReached": false,
       "aggType": "",
       "arguments": {},
       "columnCustomDisplayInfos": {},
       "data": [
        [
         0,
         0,
         0,
         0,
         0,
         2204270,
         0,
         0,
         0,
         31234,
         0,
         0,
         0,
         0,
         0,
         0,
         0,
         0,
         0,
         0,
         0,
         0,
         0,
         0,
         0,
         0,
         0
        ]
       ],
       "datasetInfos": [],
       "dbfsResultPath": null,
       "isJsonSchema": true,
       "metadata": {},
       "overflow": false,
       "plotOptions": {
        "customPlotOptions": {},
        "displayType": "table",
        "pivotAggregation": null,
        "pivotColumns": null,
        "xColumns": null,
        "yColumns": null
       },
       "removedWidgets": [],
       "schema": [
        {
         "metadata": "{}",
         "name": "VendorID",
         "type": "\"long\""
        },
        {
         "metadata": "{}",
         "name": "pickup_datetime",
         "type": "\"long\""
        },
        {
         "metadata": "{}",
         "name": "dropoff_datetime",
         "type": "\"long\""
        },
        {
         "metadata": "{}",
         "name": "passenger_count",
         "type": "\"long\""
        },
        {
         "metadata": "{}",
         "name": "trip_distance",
         "type": "\"long\""
        },
        {
         "metadata": "{}",
         "name": "RatecodeID",
         "type": "\"long\""
        },
        {
         "metadata": "{}",
         "name": "store_and_fwd_flag",
         "type": "\"long\""
        },
        {
         "metadata": "{}",
         "name": "PULocationID",
         "type": "\"long\""
        },
        {
         "metadata": "{}",
         "name": "DOLocationID",
         "type": "\"long\""
        },
        {
         "metadata": "{}",
         "name": "payment_type",
         "type": "\"long\""
        },
        {
         "metadata": "{}",
         "name": "fare_amount",
         "type": "\"long\""
        },
        {
         "metadata": "{}",
         "name": "extra",
         "type": "\"long\""
        },
        {
         "metadata": "{}",
         "name": "mta_tax",
         "type": "\"long\""
        },
        {
         "metadata": "{}",
         "name": "tip_amount",
         "type": "\"long\""
        },
        {
         "metadata": "{}",
         "name": "tolls_amount",
         "type": "\"long\""
        },
        {
         "metadata": "{}",
         "name": "improvement_surcharge",
         "type": "\"long\""
        },
        {
         "metadata": "{}",
         "name": "total_amount",
         "type": "\"long\""
        },
        {
         "metadata": "{}",
         "name": "congestion_surcharge",
         "type": "\"long\""
        },
        {
         "metadata": "{}",
         "name": "Airport_fee",
         "type": "\"long\""
        },
        {
         "metadata": "{}",
         "name": "Taxi_Type",
         "type": "\"long\""
        },
        {
         "metadata": "{}",
         "name": "date",
         "type": "\"long\""
        },
        {
         "metadata": "{}",
         "name": "year",
         "type": "\"long\""
        },
        {
         "metadata": "{}",
         "name": "month",
         "type": "\"long\""
        },
        {
         "metadata": "{}",
         "name": "day_of_month",
         "type": "\"long\""
        },
        {
         "metadata": "{}",
         "name": "day_of_week",
         "type": "\"long\""
        },
        {
         "metadata": "{}",
         "name": "is_weekend",
         "type": "\"long\""
        },
        {
         "metadata": "{}",
         "name": "trip_duration",
         "type": "\"long\""
        }
       ],
       "type": "table"
      }
     },
     "output_type": "display_data"
    }
   ],
   "source": [
    "# Check nulls one more time\n",
    "display(taxi_df.select([sum(col(c).isNull().cast(\"integer\")).alias(c) for c in taxi_df.columns]))"
   ]
  },
  {
   "cell_type": "code",
   "execution_count": 0,
   "metadata": {
    "application/vnd.databricks.v1+cell": {
     "cellMetadata": {
      "byteLimit": 2048000,
      "rowLimit": 10000
     },
     "inputWidgets": {},
     "nuid": "a97fe824-c0bb-4a76-a715-917674cddf5f",
     "showTitle": false,
     "title": ""
    }
   },
   "outputs": [],
   "source": [
    "from pyspark.sql.window import Window"
   ]
  },
  {
   "cell_type": "code",
   "execution_count": 0,
   "metadata": {
    "application/vnd.databricks.v1+cell": {
     "cellMetadata": {
      "byteLimit": 2048000,
      "rowLimit": 10000
     },
     "inputWidgets": {},
     "nuid": "648ba04f-c754-4810-b1e0-5fe6aeb7a1ac",
     "showTitle": false,
     "title": ""
    }
   },
   "outputs": [],
   "source": [
    "# Calculate Trip Duration % of Total Time Spent Active for the day.\n",
    "taxi_df = taxi_df.withColumn('trip_distance_percentage', col('trip_distance')/ sum('trip_distance').over(Window.partitionBy(to_date(\"Pickup_datetime\")))*100)\n",
    "taxi_df = taxi_df.withColumn('trip_duration_percentage', col('trip_duration')/ sum('trip_duration').over(Window.partitionBy(to_date(\"Pickup_datetime\")))*100)"
   ]
  },
  {
   "cell_type": "code",
   "execution_count": 0,
   "metadata": {
    "application/vnd.databricks.v1+cell": {
     "cellMetadata": {
      "byteLimit": 2048000,
      "rowLimit": 10000
     },
     "inputWidgets": {},
     "nuid": "0efca775-fa75-49b1-ac41-dc08ee8c1a10",
     "showTitle": false,
     "title": ""
    }
   },
   "outputs": [],
   "source": [
    "# Write taxi DataFrame to parquet files partitioned by year, month, and taxi type\n",
    "taxi_df = taxi_df.withColumn(\"year_\", col(\"year\"))\n",
    "taxi_df = taxi_df.withColumn(\"month_\", col(\"month\"))\n",
    "taxi_df = taxi_df.withColumn(\"taxi_type_\", col(\"Taxi_Type\"))\n",
    "\n",
    "taxi_parquet_path = f\"s3a://capstone-techcatalyst-transformed/group4/taxi_data/\"\n",
    "\n",
    "taxi_df.write.partitionBy([\"year_\", \"month_\", \"taxi_type_\"]).parquet(taxi_parquet_path)"
   ]
  }
 ],
 "metadata": {
  "application/vnd.databricks.v1+notebook": {
   "dashboards": [],
   "environmentMetadata": null,
   "language": "python",
   "notebookMetadata": {
    "pythonIndentUnit": 4
   },
   "notebookName": "yellow_green_transformed",
   "widgets": {}
  }
 },
 "nbformat": 4,
 "nbformat_minor": 0
}
