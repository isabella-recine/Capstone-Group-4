{
 "cells": [
  {
   "cell_type": "code",
   "execution_count": 0,
   "metadata": {
    "application/vnd.databricks.v1+cell": {
     "cellMetadata": {
      "byteLimit": 2048000,
      "rowLimit": 10000
     },
     "inputWidgets": {},
     "nuid": "c1ee87f9-f0a9-46ae-865a-47581692f2b0",
     "showTitle": false,
     "title": ""
    }
   },
   "outputs": [],
   "source": [
    "from pyspark.sql import SparkSession\n",
    "from pyspark.sql import functions as F\n",
    "import pandas as pd\n",
    "import geopandas as gp\n",
    "import fsspec\n",
    "import s3fs\n",
    "import boto3\n",
    "import tempfile"
   ]
  },
  {
   "cell_type": "markdown",
   "metadata": {
    "application/vnd.databricks.v1+cell": {
     "cellMetadata": {
      "byteLimit": 2048000,
      "rowLimit": 10000
     },
     "inputWidgets": {},
     "nuid": "f152b676-4e59-46ae-b923-6850011a47ca",
     "showTitle": false,
     "title": ""
    }
   },
   "source": [
    "#### Setup AWS S3 connection"
   ]
  },
  {
   "cell_type": "code",
   "execution_count": 0,
   "metadata": {
    "application/vnd.databricks.v1+cell": {
     "cellMetadata": {
      "byteLimit": 2048000,
      "rowLimit": 10000
     },
     "inputWidgets": {},
     "nuid": "53c6153f-4079-4e65-8e5f-2e3b38672140",
     "showTitle": false,
     "title": ""
    }
   },
   "outputs": [],
   "source": [
    "aws_access_key_id=''\n",
    "aws_secret_access_key=''\n",
    "\n",
    "spark.conf.set(\"fs.s3a.access.key\", aws_access_key_id)\n",
    "spark.conf.set(\"fs.s3a.secret.key\", aws_secret_access_key)"
   ]
  },
  {
   "cell_type": "markdown",
   "metadata": {
    "application/vnd.databricks.v1+cell": {
     "cellMetadata": {
      "byteLimit": 2048000,
      "rowLimit": 10000
     },
     "inputWidgets": {},
     "nuid": "894c3aeb-6326-4932-915f-a7ddc08a0f7e",
     "showTitle": false,
     "title": ""
    }
   },
   "source": [
    "#### Create boto3 Session"
   ]
  },
  {
   "cell_type": "code",
   "execution_count": 0,
   "metadata": {
    "application/vnd.databricks.v1+cell": {
     "cellMetadata": {
      "byteLimit": 2048000,
      "rowLimit": 10000
     },
     "inputWidgets": {},
     "nuid": "14d1bb03-c35d-4de4-aced-3cab318a7a76",
     "showTitle": false,
     "title": ""
    }
   },
   "outputs": [],
   "source": [
    "session = boto3.Session(aws_access_key_id=aws_access_key_id, aws_secret_access_key=aws_secret_access_key)\n",
    "s3 = session.client('s3')"
   ]
  },
  {
   "cell_type": "markdown",
   "metadata": {
    "application/vnd.databricks.v1+cell": {
     "cellMetadata": {
      "byteLimit": 2048000,
      "rowLimit": 10000
     },
     "inputWidgets": {},
     "nuid": "b0838dd9-9510-44ac-af70-de95e5fa6d50",
     "showTitle": false,
     "title": ""
    }
   },
   "source": [
    "## Extractions"
   ]
  },
  {
   "cell_type": "markdown",
   "metadata": {
    "application/vnd.databricks.v1+cell": {
     "cellMetadata": {
      "byteLimit": 2048000,
      "rowLimit": 10000
     },
     "inputWidgets": {},
     "nuid": "89c485d9-f69d-48cc-a8a6-cb2281c915cd",
     "showTitle": false,
     "title": ""
    }
   },
   "source": [
    "#### Load Taxi Zone Lookup Data"
   ]
  },
  {
   "cell_type": "code",
   "execution_count": 0,
   "metadata": {
    "application/vnd.databricks.v1+cell": {
     "cellMetadata": {
      "byteLimit": 2048000,
      "rowLimit": 10000
     },
     "inputWidgets": {},
     "nuid": "526d9a77-2fdd-4d71-8ea3-55287211cb21",
     "showTitle": false,
     "title": ""
    }
   },
   "outputs": [],
   "source": [
    "src_tz_path = \"s3://capstone-techcatalyst-raw/other/taxi_zone_lookup.csv\"\n",
    "zone_df = spark.read.csv(src_tz_path, header=True)"
   ]
  },
  {
   "cell_type": "code",
   "execution_count": 0,
   "metadata": {
    "application/vnd.databricks.v1+cell": {
     "cellMetadata": {
      "byteLimit": 2048000,
      "rowLimit": 10000
     },
     "inputWidgets": {},
     "nuid": "95b49e83-ebbe-4a13-88a2-b48c0137e909",
     "showTitle": false,
     "title": ""
    }
   },
   "outputs": [
    {
     "output_type": "stream",
     "name": "stdout",
     "output_type": "stream",
     "text": [
      "root\n |-- LocationID: string (nullable = true)\n |-- Borough: string (nullable = true)\n |-- Zone: string (nullable = true)\n |-- service_zone: string (nullable = true)\n\n"
     ]
    }
   ],
   "source": [
    "zone_df.printSchema()"
   ]
  },
  {
   "cell_type": "markdown",
   "metadata": {
    "application/vnd.databricks.v1+cell": {
     "cellMetadata": {
      "byteLimit": 2048000,
      "rowLimit": 10000
     },
     "inputWidgets": {},
     "nuid": "c5cf049a-0374-4d8b-b57e-983a60daa168",
     "showTitle": false,
     "title": ""
    }
   },
   "source": [
    "#### Load NYC Accident Data"
   ]
  },
  {
   "cell_type": "code",
   "execution_count": 0,
   "metadata": {
    "application/vnd.databricks.v1+cell": {
     "cellMetadata": {
      "byteLimit": 2048000,
      "rowLimit": 10000
     },
     "inputWidgets": {},
     "nuid": "269dfb1e-0612-48ca-ac8c-08e4d328e5ef",
     "showTitle": false,
     "title": ""
    }
   },
   "outputs": [],
   "source": [
    "src_acc_path = \"s3://capstone-techcatalyst-raw/group_4_other/Motor_Vehicle_Collisions_-_Crashes_20240731.csv\" \n",
    "acc_df = spark.read.csv(src_acc_path, header=True)"
   ]
  },
  {
   "cell_type": "markdown",
   "metadata": {
    "application/vnd.databricks.v1+cell": {
     "cellMetadata": {
      "byteLimit": 2048000,
      "rowLimit": 10000
     },
     "inputWidgets": {},
     "nuid": "4857af6c-b77d-449b-8da0-4ecd4bd5e4e5",
     "showTitle": false,
     "title": ""
    }
   },
   "source": [
    "#### Load the GeoSpace Data for Boroughs"
   ]
  },
  {
   "cell_type": "code",
   "execution_count": 0,
   "metadata": {
    "application/vnd.databricks.v1+cell": {
     "cellMetadata": {
      "byteLimit": 2048000,
      "rowLimit": 10000
     },
     "inputWidgets": {},
     "nuid": "562ee1ac-2eb1-4180-8068-fe0230a0d1ec",
     "showTitle": false,
     "title": ""
    }
   },
   "outputs": [],
   "source": [
    "\n",
    "bucket = 'capstone-techcatalyst-raw'\n",
    "key = 'group_4_other/Borough Boundaries.geojson'\n",
    "\n",
    "with tempfile.NamedTemporaryFile(delete=False, suffix=\".geojson\") as tmp_file:\n",
    "    temp_file_path = tmp_file.name\n",
    "\n",
    "s3.download_file(bucket, key, temp_file_path)\n",
    "gdf = gp.read_file(temp_file_path)\n",
    "gdf = gdf[['boro_name','geometry']]\n",
    "\n"
   ]
  },
  {
   "cell_type": "markdown",
   "metadata": {
    "application/vnd.databricks.v1+cell": {
     "cellMetadata": {
      "byteLimit": 2048000,
      "rowLimit": 10000
     },
     "inputWidgets": {},
     "nuid": "0e8ac504-d517-4c24-86b2-988d42d8e174",
     "showTitle": false,
     "title": ""
    }
   },
   "source": [
    "## Transformations"
   ]
  },
  {
   "cell_type": "code",
   "execution_count": 0,
   "metadata": {
    "application/vnd.databricks.v1+cell": {
     "cellMetadata": {
      "byteLimit": 2048000,
      "rowLimit": 10000
     },
     "inputWidgets": {},
     "nuid": "a3a798b0-2db8-470a-bf70-c4986c1d402f",
     "showTitle": false,
     "title": ""
    }
   },
   "outputs": [],
   "source": []
  },
  {
   "cell_type": "markdown",
   "metadata": {
    "application/vnd.databricks.v1+cell": {
     "cellMetadata": {
      "byteLimit": 2048000,
      "rowLimit": 10000
     },
     "inputWidgets": {},
     "nuid": "136d2c0f-3237-46f6-9095-4e3168a466a1",
     "showTitle": false,
     "title": ""
    }
   },
   "source": [
    "#### Change Crash Date columntype to Datetime"
   ]
  },
  {
   "cell_type": "code",
   "execution_count": 0,
   "metadata": {
    "application/vnd.databricks.v1+cell": {
     "cellMetadata": {
      "byteLimit": 2048000,
      "rowLimit": 10000
     },
     "inputWidgets": {},
     "nuid": "521a84fe-a2d6-4fb5-81c2-9ed2fabe8935",
     "showTitle": false,
     "title": ""
    }
   },
   "outputs": [],
   "source": [
    "acc_df=acc_df.withColumn('CRASH DATE', F.to_date('CRASH DATE',\"MM/dd/yyyy\"))"
   ]
  },
  {
   "cell_type": "markdown",
   "metadata": {
    "application/vnd.databricks.v1+cell": {
     "cellMetadata": {
      "byteLimit": 2048000,
      "rowLimit": 10000
     },
     "inputWidgets": {},
     "nuid": "593ea759-0cd8-4f5c-946b-495aa7b49120",
     "showTitle": false,
     "title": ""
    }
   },
   "source": [
    "#### Filter out irrelevant dates from Accident Data to Match Taxi Data"
   ]
  },
  {
   "cell_type": "code",
   "execution_count": 0,
   "metadata": {
    "application/vnd.databricks.v1+cell": {
     "cellMetadata": {
      "byteLimit": 2048000,
      "rowLimit": 10000
     },
     "inputWidgets": {},
     "nuid": "cfa8a18a-76a6-452f-adec-e591a07fcd30",
     "showTitle": false,
     "title": ""
    }
   },
   "outputs": [],
   "source": [
    "acc_df = acc_df.filter(acc_df[\"CRASH DATE\"] >= \"2023-09-01\")"
   ]
  },
  {
   "cell_type": "markdown",
   "metadata": {
    "application/vnd.databricks.v1+cell": {
     "cellMetadata": {
      "byteLimit": 2048000,
      "rowLimit": 10000
     },
     "inputWidgets": {},
     "nuid": "26740ddd-283d-4293-aa6c-b9501c5d8c7a",
     "showTitle": false,
     "title": ""
    }
   },
   "source": [
    "#### Remove Irrelevant Columns"
   ]
  },
  {
   "cell_type": "code",
   "execution_count": 0,
   "metadata": {
    "application/vnd.databricks.v1+cell": {
     "cellMetadata": {
      "byteLimit": 2048000,
      "rowLimit": 10000
     },
     "inputWidgets": {},
     "nuid": "aa2eca3e-1b7f-444b-955d-c9c8db98339f",
     "showTitle": false,
     "title": ""
    }
   },
   "outputs": [
    {
     "output_type": "stream",
     "name": "stdout",
     "output_type": "stream",
     "text": [
      "(0, 'CRASH DATE')\n(1, 'CRASH TIME')\n(2, 'BOROUGH')\n(3, 'ZIP CODE')\n(4, 'LATITUDE')\n(5, 'LONGITUDE')\n(6, 'LOCATION')\n(7, 'ON STREET NAME')\n(8, 'CROSS STREET NAME')\n(9, 'OFF STREET NAME')\n(10, 'NUMBER OF PERSONS INJURED')\n(11, 'NUMBER OF PERSONS KILLED')\n(12, 'NUMBER OF PEDESTRIANS INJURED')\n(13, 'NUMBER OF PEDESTRIANS KILLED')\n(14, 'NUMBER OF CYCLIST INJURED')\n(15, 'NUMBER OF CYCLIST KILLED')\n(16, 'NUMBER OF MOTORIST INJURED')\n(17, 'NUMBER OF MOTORIST KILLED')\n(18, 'CONTRIBUTING FACTOR VEHICLE 1')\n(19, 'CONTRIBUTING FACTOR VEHICLE 2')\n(20, 'CONTRIBUTING FACTOR VEHICLE 3')\n(21, 'CONTRIBUTING FACTOR VEHICLE 4')\n(22, 'CONTRIBUTING FACTOR VEHICLE 5')\n(23, 'COLLISION_ID')\n(24, 'VEHICLE TYPE CODE 1')\n(25, 'VEHICLE TYPE CODE 2')\n(26, 'VEHICLE TYPE CODE 3')\n(27, 'VEHICLE TYPE CODE 4')\n(28, 'VEHICLE TYPE CODE 5')\n"
     ]
    }
   ],
   "source": [
    "columns_list = acc_df.columns\n",
    "for item in enumerate(columns_list):\n",
    "    print(item)"
   ]
  },
  {
   "cell_type": "code",
   "execution_count": 0,
   "metadata": {
    "application/vnd.databricks.v1+cell": {
     "cellMetadata": {
      "byteLimit": 2048000,
      "rowLimit": 10000
     },
     "inputWidgets": {},
     "nuid": "37f359f1-a966-41f7-b938-ed5b35ce098c",
     "showTitle": false,
     "title": ""
    }
   },
   "outputs": [],
   "source": [
    "redux_acc_df = acc_df.select([*columns_list[0:7], *columns_list[10:20], *columns_list[23:26]])"
   ]
  },
  {
   "cell_type": "markdown",
   "metadata": {
    "application/vnd.databricks.v1+cell": {
     "cellMetadata": {
      "byteLimit": 2048000,
      "rowLimit": 10000
     },
     "inputWidgets": {},
     "nuid": "7e032118-170c-4215-9c4f-e0acc0c1e9a8",
     "showTitle": false,
     "title": ""
    }
   },
   "source": [
    "#### Drop NULL Longitude and Latitude Columns"
   ]
  },
  {
   "cell_type": "code",
   "execution_count": 0,
   "metadata": {
    "application/vnd.databricks.v1+cell": {
     "cellMetadata": {
      "byteLimit": 2048000,
      "rowLimit": 10000
     },
     "inputWidgets": {},
     "nuid": "ee0bcb88-c4d6-4e98-8244-f899454e9431",
     "showTitle": false,
     "title": ""
    }
   },
   "outputs": [],
   "source": [
    "redux_acc_df = redux_acc_df.dropna(subset=['LONGITUDE','LATITUDE'])"
   ]
  },
  {
   "cell_type": "markdown",
   "metadata": {
    "application/vnd.databricks.v1+cell": {
     "cellMetadata": {
      "byteLimit": 2048000,
      "rowLimit": 10000
     },
     "inputWidgets": {},
     "nuid": "d303fb66-79a1-409f-a914-ec272bfa6b43",
     "showTitle": false,
     "title": ""
    }
   },
   "source": [
    "#### Fill NULL contributing factor columns with 'Unspecified'"
   ]
  },
  {
   "cell_type": "code",
   "execution_count": 0,
   "metadata": {
    "application/vnd.databricks.v1+cell": {
     "cellMetadata": {
      "byteLimit": 2048000,
      "rowLimit": 10000
     },
     "inputWidgets": {},
     "nuid": "91436b84-0025-4080-b850-1d7b75549f9b",
     "showTitle": false,
     "title": ""
    }
   },
   "outputs": [],
   "source": [
    "redux_acc_df = redux_acc_df.fillna('Unspecified', subset=['CONTRIBUTING FACTOR VEHICLE 1', 'CONTRIBUTING FACTOR VEHICLE 2'])"
   ]
  },
  {
   "cell_type": "code",
   "execution_count": 0,
   "metadata": {
    "application/vnd.databricks.v1+cell": {
     "cellMetadata": {
      "byteLimit": 2048000,
      "rowLimit": 10000
     },
     "inputWidgets": {},
     "nuid": "c3eeb4b1-fb41-4cbf-af4e-fb391f7d7d40",
     "showTitle": false,
     "title": ""
    }
   },
   "outputs": [],
   "source": [
    "#redux_acc_df[7:15] = redux_acc_df.select([F.col(column).cast('integer') for column in redux_acc_df.columns[7:15]])\n",
    "for column in redux_acc_df.columns[7:15]:\n",
    "    redux_acc_df = redux_acc_df.withColumn(column, F.col(column).cast('int'))"
   ]
  },
  {
   "cell_type": "code",
   "execution_count": 0,
   "metadata": {
    "application/vnd.databricks.v1+cell": {
     "cellMetadata": {
      "byteLimit": 2048000,
      "rowLimit": 10000
     },
     "inputWidgets": {},
     "nuid": "8c5ff75b-54c9-498c-892d-0d93f9594094",
     "showTitle": false,
     "title": ""
    }
   },
   "outputs": [],
   "source": [
    "redux_acc_df = redux_acc_df.withColumn(\"YEAR\", F.date_format('CRASH DATE', 'yyyy'))\n",
    "redux_acc_df = redux_acc_df.withColumn(\"MONTH\", F.date_format('CRASH DATE', 'MM'))\n",
    "redux_acc_df = redux_acc_df.withColumn(\"DAY OF MONTH\", F.dayofmonth('CRASH DATE'))\n",
    "redux_acc_df = redux_acc_df.withColumn(\"DAY OF WEEK\", F.date_format('CRASH DATE', 'EEEE'))\n",
    "redux_acc_df = redux_acc_df.withColumn(\"IS WEEKEND\", F.dayofweek(\"CRASH DATE\").isin([1,7]).cast(\"boolean\"))\n",
    "redux_acc_df = redux_acc_df.withColumn(\"CRASH DATETIME\", F.concat_ws(' ',F.col('CRASH DATE'), F.col('CRASH TIME')))\n",
    "redux_acc_df = redux_acc_df.withColumn(\"CRASH DATETIME\", F.to_timestamp(F.col('CRASH DATE'), 'yyyy-MM-dd HH:mm:ss'))\n",
    "redux_acc_df = redux_acc_df.select(redux_acc_df.columns[-1], *redux_acc_df.columns[0:-1])\n"
   ]
  },
  {
   "cell_type": "code",
   "execution_count": 0,
   "metadata": {
    "application/vnd.databricks.v1+cell": {
     "cellMetadata": {
      "byteLimit": 2048000,
      "rowLimit": 10000
     },
     "inputWidgets": {},
     "nuid": "82307c78-2dc3-41f8-8dc5-d6853c341c55",
     "showTitle": false,
     "title": ""
    }
   },
   "outputs": [
    {
     "output_type": "stream",
     "name": "stdout",
     "output_type": "stream",
     "text": [
      "root\n |-- CRASH DATETIME: timestamp (nullable = true)\n |-- CRASH DATE: date (nullable = true)\n |-- CRASH TIME: string (nullable = true)\n |-- BOROUGH: string (nullable = true)\n |-- ZIP CODE: string (nullable = true)\n |-- LATITUDE: string (nullable = true)\n |-- LONGITUDE: string (nullable = true)\n |-- LOCATION: string (nullable = true)\n |-- NUMBER OF PERSONS INJURED: integer (nullable = true)\n |-- NUMBER OF PERSONS KILLED: integer (nullable = true)\n |-- NUMBER OF PEDESTRIANS INJURED: integer (nullable = true)\n |-- NUMBER OF PEDESTRIANS KILLED: integer (nullable = true)\n |-- NUMBER OF CYCLIST INJURED: integer (nullable = true)\n |-- NUMBER OF CYCLIST KILLED: integer (nullable = true)\n |-- NUMBER OF MOTORIST INJURED: integer (nullable = true)\n |-- NUMBER OF MOTORIST KILLED: integer (nullable = true)\n |-- CONTRIBUTING FACTOR VEHICLE 1: string (nullable = false)\n |-- CONTRIBUTING FACTOR VEHICLE 2: string (nullable = false)\n |-- COLLISION_ID: string (nullable = true)\n |-- VEHICLE TYPE CODE 1: string (nullable = true)\n |-- VEHICLE TYPE CODE 2: string (nullable = true)\n |-- YEAR: string (nullable = true)\n |-- MONTH: string (nullable = true)\n |-- DAY OF MONTH: integer (nullable = true)\n |-- DAY OF WEEK: string (nullable = true)\n |-- IS WEEKEND: boolean (nullable = true)\n\n"
     ]
    }
   ],
   "source": [
    "redux_acc_df.printSchema()"
   ]
  },
  {
   "cell_type": "markdown",
   "metadata": {
    "application/vnd.databricks.v1+cell": {
     "cellMetadata": {
      "byteLimit": 2048000,
      "rowLimit": 10000
     },
     "inputWidgets": {},
     "nuid": "ace67e32-1543-407e-b2e2-b7a346da2556",
     "showTitle": false,
     "title": ""
    }
   },
   "source": [
    "#### Check the missing data"
   ]
  },
  {
   "cell_type": "code",
   "execution_count": 0,
   "metadata": {
    "application/vnd.databricks.v1+cell": {
     "cellMetadata": {
      "byteLimit": 2048000,
      "rowLimit": 10000
     },
     "inputWidgets": {},
     "nuid": "69171924-edd6-499d-9f09-1fdef5a82cbe",
     "showTitle": false,
     "title": ""
    }
   },
   "outputs": [],
   "source": [
    "missing_data = redux_acc_df.select([F.sum(F.when(F.col(c).isNull(), 1).otherwise(0)).alias(c) for c in redux_acc_df.columns])"
   ]
  },
  {
   "cell_type": "markdown",
   "metadata": {
    "application/vnd.databricks.v1+cell": {
     "cellMetadata": {
      "byteLimit": 2048000,
      "rowLimit": 10000
     },
     "inputWidgets": {},
     "nuid": "c5363c53-d8aa-40d0-b006-a0440c394cdc",
     "showTitle": false,
     "title": ""
    }
   },
   "source": [
    "#### Convert accident df to a pandas datframe for compatibility with geopandas"
   ]
  },
  {
   "cell_type": "code",
   "execution_count": 0,
   "metadata": {
    "application/vnd.databricks.v1+cell": {
     "cellMetadata": {
      "byteLimit": 2048000,
      "rowLimit": 10000
     },
     "inputWidgets": {},
     "nuid": "8128add5-a9bb-4d1c-9a4a-569b38b1bf00",
     "showTitle": false,
     "title": ""
    }
   },
   "outputs": [],
   "source": [
    "from shapely.geometry import Point\n",
    "pd_acc_df = redux_acc_df.toPandas()"
   ]
  },
  {
   "cell_type": "code",
   "execution_count": 0,
   "metadata": {
    "application/vnd.databricks.v1+cell": {
     "cellMetadata": {
      "byteLimit": 2048000,
      "rowLimit": 10000
     },
     "inputWidgets": {},
     "nuid": "3833ee6d-58f1-4295-8b30-7e7da796e6de",
     "showTitle": false,
     "title": ""
    }
   },
   "outputs": [
    {
     "output_type": "stream",
     "name": "stdout",
     "output_type": "stream",
     "text": [
      "Out[151]: {'Brooklyn': <MULTIPOLYGON (((-73.863 40.584, -73.864 40.584, -73.864 40.584, -73.865 40....>,\n 'Staten Island': <MULTIPOLYGON (((-74.051 40.566, -74.05 40.566, -74.05 40.566, -74.05 40.566...>,\n 'Manhattan': <MULTIPOLYGON (((-74.011 40.684, -74.012 40.684, -74.012 40.684, -74.01 40.6...>,\n 'Bronx': <MULTIPOLYGON (((-73.897 40.796, -73.897 40.796, -73.897 40.796, -73.898 40....>,\n 'Queens': <MULTIPOLYGON (((-73.826 40.591, -73.826 40.59, -73.826 40.59, -73.826 40.59...>}"
     ]
    }
   ],
   "source": [
    "geom_dict = gdf.set_index('boro_name')['geometry'].to_dict()\n",
    "geom_dict"
   ]
  },
  {
   "cell_type": "code",
   "execution_count": 0,
   "metadata": {
    "application/vnd.databricks.v1+cell": {
     "cellMetadata": {
      "byteLimit": 2048000,
      "rowLimit": 10000
     },
     "inputWidgets": {},
     "nuid": "9c33c6ab-d477-4055-a46b-14398eeb78d5",
     "showTitle": false,
     "title": ""
    }
   },
   "outputs": [],
   "source": [
    "# Modify the buffer for the geodata\n",
    "for key, value in geom_dict.items():\n",
    "    value = value.buffer(0.00001)\n",
    "    "
   ]
  },
  {
   "cell_type": "code",
   "execution_count": 0,
   "metadata": {
    "application/vnd.databricks.v1+cell": {
     "cellMetadata": {
      "byteLimit": 2048000,
      "rowLimit": 10000
     },
     "inputWidgets": {},
     "nuid": "b7f11feb-a9a9-4a1a-b2e6-aa8b36b20dab",
     "showTitle": false,
     "title": ""
    }
   },
   "outputs": [],
   "source": [
    "def get_boro(point):\n",
    "    for key, value in geom_dict.items():\n",
    "        if point.within(value):\n",
    "            return key.upper()\n",
    "        return 'No Borough'\n",
    "    \n",
    "pd_acc_df['BOROUGH'] = pd_acc_df.apply(\n",
    "    lambda x: get_boro(\n",
    "        Point(x['LONGITUDE'], x['LATITUDE'])\n",
    "        ) if pd.isna(x['BOROUGH']) else x['BOROUGH'], axis=1)\n"
   ]
  },
  {
   "cell_type": "code",
   "execution_count": 0,
   "metadata": {
    "application/vnd.databricks.v1+cell": {
     "cellMetadata": {
      "byteLimit": 2048000,
      "rowLimit": 10000
     },
     "inputWidgets": {},
     "nuid": "0e7dd701-3e41-47eb-ae0d-8919b47cf633",
     "showTitle": false,
     "title": ""
    }
   },
   "outputs": [],
   "source": [
    "# Turn spark dataframe to pandas dataframe\n",
    "new_acc_df=spark.createDataFrame(pd_acc_df)"
   ]
  },
  {
   "cell_type": "code",
   "execution_count": 0,
   "metadata": {
    "application/vnd.databricks.v1+cell": {
     "cellMetadata": {
      "byteLimit": 2048000,
      "rowLimit": 10000
     },
     "inputWidgets": {},
     "nuid": "bc07acd5-1cd3-4962-9721-6afea771d8bf",
     "showTitle": false,
     "title": ""
    }
   },
   "outputs": [
    {
     "output_type": "display_data",
     "data": {
      "text/html": [
       "<style scoped>\n",
       "  .table-result-container {\n",
       "    max-height: 300px;\n",
       "    overflow: auto;\n",
       "  }\n",
       "  table, th, td {\n",
       "    border: 1px solid black;\n",
       "    border-collapse: collapse;\n",
       "  }\n",
       "  th, td {\n",
       "    padding: 5px;\n",
       "  }\n",
       "  th {\n",
       "    text-align: left;\n",
       "  }\n",
       "</style><div class='table-result-container'><table class='table-result'><thead style='background-color: white'><tr><th>CRASH DATETIME</th><th>CRASH DATE</th><th>CRASH TIME</th><th>BOROUGH</th><th>ZIP CODE</th><th>LATITUDE</th><th>LONGITUDE</th><th>LOCATION</th><th>NUMBER OF PERSONS INJURED</th><th>NUMBER OF PERSONS KILLED</th><th>NUMBER OF PEDESTRIANS INJURED</th><th>NUMBER OF PEDESTRIANS KILLED</th><th>NUMBER OF CYCLIST INJURED</th><th>NUMBER OF CYCLIST KILLED</th><th>NUMBER OF MOTORIST INJURED</th><th>NUMBER OF MOTORIST KILLED</th><th>CONTRIBUTING FACTOR VEHICLE 1</th><th>CONTRIBUTING FACTOR VEHICLE 2</th><th>COLLISION_ID</th><th>VEHICLE TYPE CODE 1</th><th>VEHICLE TYPE CODE 2</th><th>YEAR</th><th>MONTH</th><th>DAY OF MONTH</th><th>DAY OF WEEK</th><th>IS WEEKEND</th></tr></thead><tbody><tr><td>0</td><td>0</td><td>0</td><td>0</td><td>21190</td><td>0</td><td>0</td><td>0</td><td>0</td><td>0</td><td>0</td><td>0</td><td>0</td><td>0</td><td>0</td><td>0</td><td>0</td><td>0</td><td>0</td><td>1366</td><td>26584</td><td>0</td><td>0</td><td>0</td><td>0</td><td>0</td></tr></tbody></table></div>"
      ]
     },
     "metadata": {
      "application/vnd.databricks.v1+output": {
       "addedWidgets": {},
       "aggData": [],
       "aggError": "",
       "aggOverflow": false,
       "aggSchema": [],
       "aggSeriesLimitReached": false,
       "aggType": "",
       "arguments": {},
       "columnCustomDisplayInfos": {},
       "data": [
        [
         0,
         0,
         0,
         0,
         21190,
         0,
         0,
         0,
         0,
         0,
         0,
         0,
         0,
         0,
         0,
         0,
         0,
         0,
         0,
         1366,
         26584,
         0,
         0,
         0,
         0,
         0
        ]
       ],
       "datasetInfos": [],
       "dbfsResultPath": null,
       "isJsonSchema": true,
       "metadata": {},
       "overflow": false,
       "plotOptions": {
        "customPlotOptions": {},
        "displayType": "table",
        "pivotAggregation": null,
        "pivotColumns": null,
        "xColumns": null,
        "yColumns": null
       },
       "removedWidgets": [],
       "schema": [
        {
         "metadata": "{}",
         "name": "CRASH DATETIME",
         "type": "\"long\""
        },
        {
         "metadata": "{}",
         "name": "CRASH DATE",
         "type": "\"long\""
        },
        {
         "metadata": "{}",
         "name": "CRASH TIME",
         "type": "\"long\""
        },
        {
         "metadata": "{}",
         "name": "BOROUGH",
         "type": "\"long\""
        },
        {
         "metadata": "{}",
         "name": "ZIP CODE",
         "type": "\"long\""
        },
        {
         "metadata": "{}",
         "name": "LATITUDE",
         "type": "\"long\""
        },
        {
         "metadata": "{}",
         "name": "LONGITUDE",
         "type": "\"long\""
        },
        {
         "metadata": "{}",
         "name": "LOCATION",
         "type": "\"long\""
        },
        {
         "metadata": "{}",
         "name": "NUMBER OF PERSONS INJURED",
         "type": "\"long\""
        },
        {
         "metadata": "{}",
         "name": "NUMBER OF PERSONS KILLED",
         "type": "\"long\""
        },
        {
         "metadata": "{}",
         "name": "NUMBER OF PEDESTRIANS INJURED",
         "type": "\"long\""
        },
        {
         "metadata": "{}",
         "name": "NUMBER OF PEDESTRIANS KILLED",
         "type": "\"long\""
        },
        {
         "metadata": "{}",
         "name": "NUMBER OF CYCLIST INJURED",
         "type": "\"long\""
        },
        {
         "metadata": "{}",
         "name": "NUMBER OF CYCLIST KILLED",
         "type": "\"long\""
        },
        {
         "metadata": "{}",
         "name": "NUMBER OF MOTORIST INJURED",
         "type": "\"long\""
        },
        {
         "metadata": "{}",
         "name": "NUMBER OF MOTORIST KILLED",
         "type": "\"long\""
        },
        {
         "metadata": "{}",
         "name": "CONTRIBUTING FACTOR VEHICLE 1",
         "type": "\"long\""
        },
        {
         "metadata": "{}",
         "name": "CONTRIBUTING FACTOR VEHICLE 2",
         "type": "\"long\""
        },
        {
         "metadata": "{}",
         "name": "COLLISION_ID",
         "type": "\"long\""
        },
        {
         "metadata": "{}",
         "name": "VEHICLE TYPE CODE 1",
         "type": "\"long\""
        },
        {
         "metadata": "{}",
         "name": "VEHICLE TYPE CODE 2",
         "type": "\"long\""
        },
        {
         "metadata": "{}",
         "name": "YEAR",
         "type": "\"long\""
        },
        {
         "metadata": "{}",
         "name": "MONTH",
         "type": "\"long\""
        },
        {
         "metadata": "{}",
         "name": "DAY OF MONTH",
         "type": "\"long\""
        },
        {
         "metadata": "{}",
         "name": "DAY OF WEEK",
         "type": "\"long\""
        },
        {
         "metadata": "{}",
         "name": "IS WEEKEND",
         "type": "\"long\""
        }
       ],
       "type": "table"
      }
     },
     "output_type": "display_data"
    }
   ],
   "source": [
    "missing_data = new_acc_df.select([F.sum(F.when(F.col(c).isNull(), 1).otherwise(0)).alias(c) for c in new_acc_df.columns])\n",
    "display(missing_data)"
   ]
  },
  {
   "cell_type": "code",
   "execution_count": 0,
   "metadata": {
    "application/vnd.databricks.v1+cell": {
     "cellMetadata": {
      "byteLimit": 2048000,
      "rowLimit": 10000
     },
     "inputWidgets": {},
     "nuid": "be4e451b-65d1-426c-a6c7-99f3bf55b138",
     "showTitle": false,
     "title": ""
    }
   },
   "outputs": [],
   "source": [
    "new_acc_df = new_acc_df.filter((F.col('BOROUGH') != 'No Borough')).select(*new_acc_df.columns[0:4],*new_acc_df.columns[5:])"
   ]
  },
  {
   "cell_type": "code",
   "execution_count": 0,
   "metadata": {
    "application/vnd.databricks.v1+cell": {
     "cellMetadata": {
      "byteLimit": 2048000,
      "rowLimit": 10000
     },
     "inputWidgets": {},
     "nuid": "c5ba50a8-fa31-4966-aa65-13122df00b4d",
     "showTitle": false,
     "title": ""
    }
   },
   "outputs": [],
   "source": [
    "new_acc_df = new_acc_df.dropna(subset='VEHICLE TYPE CODE 1')\n",
    "new_acc_df = new_acc_df.fillna('Non Vehicular', subset = ['VEHICLE TYPE CODE 2'])\n"
   ]
  },
  {
   "cell_type": "code",
   "execution_count": 0,
   "metadata": {
    "application/vnd.databricks.v1+cell": {
     "cellMetadata": {
      "byteLimit": 2048000,
      "rowLimit": 10000
     },
     "inputWidgets": {},
     "nuid": "d9425b92-a230-499b-a87a-38fde8e0fb66",
     "showTitle": false,
     "title": ""
    }
   },
   "outputs": [
    {
     "output_type": "display_data",
     "data": {
      "text/html": [
       "<style scoped>\n",
       "  .table-result-container {\n",
       "    max-height: 300px;\n",
       "    overflow: auto;\n",
       "  }\n",
       "  table, th, td {\n",
       "    border: 1px solid black;\n",
       "    border-collapse: collapse;\n",
       "  }\n",
       "  th, td {\n",
       "    padding: 5px;\n",
       "  }\n",
       "  th {\n",
       "    text-align: left;\n",
       "  }\n",
       "</style><div class='table-result-container'><table class='table-result'><thead style='background-color: white'><tr><th>CRASH DATETIME</th><th>CRASH DATE</th><th>CRASH TIME</th><th>BOROUGH</th><th>LATITUDE</th><th>LONGITUDE</th><th>LOCATION</th><th>NUMBER OF PERSONS INJURED</th><th>NUMBER OF PERSONS KILLED</th><th>NUMBER OF PEDESTRIANS INJURED</th><th>NUMBER OF PEDESTRIANS KILLED</th><th>NUMBER OF CYCLIST INJURED</th><th>NUMBER OF CYCLIST KILLED</th><th>NUMBER OF MOTORIST INJURED</th><th>NUMBER OF MOTORIST KILLED</th><th>CONTRIBUTING FACTOR VEHICLE 1</th><th>CONTRIBUTING FACTOR VEHICLE 2</th><th>COLLISION_ID</th><th>VEHICLE TYPE CODE 1</th><th>VEHICLE TYPE CODE 2</th><th>YEAR</th><th>MONTH</th><th>DAY OF MONTH</th><th>DAY OF WEEK</th><th>IS WEEKEND</th></tr></thead><tbody><tr><td>0</td><td>0</td><td>0</td><td>0</td><td>0</td><td>0</td><td>0</td><td>0</td><td>0</td><td>0</td><td>0</td><td>0</td><td>0</td><td>0</td><td>0</td><td>0</td><td>0</td><td>0</td><td>0</td><td>0</td><td>0</td><td>0</td><td>0</td><td>0</td><td>0</td></tr></tbody></table></div>"
      ]
     },
     "metadata": {
      "application/vnd.databricks.v1+output": {
       "addedWidgets": {},
       "aggData": [],
       "aggError": "",
       "aggOverflow": false,
       "aggSchema": [],
       "aggSeriesLimitReached": false,
       "aggType": "",
       "arguments": {},
       "columnCustomDisplayInfos": {},
       "data": [
        [
         0,
         0,
         0,
         0,
         0,
         0,
         0,
         0,
         0,
         0,
         0,
         0,
         0,
         0,
         0,
         0,
         0,
         0,
         0,
         0,
         0,
         0,
         0,
         0,
         0
        ]
       ],
       "datasetInfos": [],
       "dbfsResultPath": null,
       "isJsonSchema": true,
       "metadata": {},
       "overflow": false,
       "plotOptions": {
        "customPlotOptions": {},
        "displayType": "table",
        "pivotAggregation": null,
        "pivotColumns": null,
        "xColumns": null,
        "yColumns": null
       },
       "removedWidgets": [],
       "schema": [
        {
         "metadata": "{}",
         "name": "CRASH DATETIME",
         "type": "\"long\""
        },
        {
         "metadata": "{}",
         "name": "CRASH DATE",
         "type": "\"long\""
        },
        {
         "metadata": "{}",
         "name": "CRASH TIME",
         "type": "\"long\""
        },
        {
         "metadata": "{}",
         "name": "BOROUGH",
         "type": "\"long\""
        },
        {
         "metadata": "{}",
         "name": "LATITUDE",
         "type": "\"long\""
        },
        {
         "metadata": "{}",
         "name": "LONGITUDE",
         "type": "\"long\""
        },
        {
         "metadata": "{}",
         "name": "LOCATION",
         "type": "\"long\""
        },
        {
         "metadata": "{}",
         "name": "NUMBER OF PERSONS INJURED",
         "type": "\"long\""
        },
        {
         "metadata": "{}",
         "name": "NUMBER OF PERSONS KILLED",
         "type": "\"long\""
        },
        {
         "metadata": "{}",
         "name": "NUMBER OF PEDESTRIANS INJURED",
         "type": "\"long\""
        },
        {
         "metadata": "{}",
         "name": "NUMBER OF PEDESTRIANS KILLED",
         "type": "\"long\""
        },
        {
         "metadata": "{}",
         "name": "NUMBER OF CYCLIST INJURED",
         "type": "\"long\""
        },
        {
         "metadata": "{}",
         "name": "NUMBER OF CYCLIST KILLED",
         "type": "\"long\""
        },
        {
         "metadata": "{}",
         "name": "NUMBER OF MOTORIST INJURED",
         "type": "\"long\""
        },
        {
         "metadata": "{}",
         "name": "NUMBER OF MOTORIST KILLED",
         "type": "\"long\""
        },
        {
         "metadata": "{}",
         "name": "CONTRIBUTING FACTOR VEHICLE 1",
         "type": "\"long\""
        },
        {
         "metadata": "{}",
         "name": "CONTRIBUTING FACTOR VEHICLE 2",
         "type": "\"long\""
        },
        {
         "metadata": "{}",
         "name": "COLLISION_ID",
         "type": "\"long\""
        },
        {
         "metadata": "{}",
         "name": "VEHICLE TYPE CODE 1",
         "type": "\"long\""
        },
        {
         "metadata": "{}",
         "name": "VEHICLE TYPE CODE 2",
         "type": "\"long\""
        },
        {
         "metadata": "{}",
         "name": "YEAR",
         "type": "\"long\""
        },
        {
         "metadata": "{}",
         "name": "MONTH",
         "type": "\"long\""
        },
        {
         "metadata": "{}",
         "name": "DAY OF MONTH",
         "type": "\"long\""
        },
        {
         "metadata": "{}",
         "name": "DAY OF WEEK",
         "type": "\"long\""
        },
        {
         "metadata": "{}",
         "name": "IS WEEKEND",
         "type": "\"long\""
        }
       ],
       "type": "table"
      }
     },
     "output_type": "display_data"
    }
   ],
   "source": [
    "missing_data = new_acc_df.select([F.sum(F.when(F.col(c).isNull(), 1).otherwise(0)).alias(c) for c in new_acc_df.columns])\n",
    "display(missing_data)"
   ]
  },
  {
   "cell_type": "code",
   "execution_count": 0,
   "metadata": {
    "application/vnd.databricks.v1+cell": {
     "cellMetadata": {
      "byteLimit": 2048000,
      "rowLimit": 10000
     },
     "inputWidgets": {},
     "nuid": "614d108c-96d3-4d30-a060-102c6d36b419",
     "showTitle": false,
     "title": ""
    }
   },
   "outputs": [],
   "source": [
    "acc_dst_path = 's3a://capstone-techcatalyst-conformed/group4/accident_data/'\n",
    "new_acc_df.write.partitionBy('YEAR','MONTH').mode(\"overwrite\").format(\"parquet\").save(acc_dst_path)"
   ]
  },
  {
   "cell_type": "code",
   "execution_count": 0,
   "metadata": {
    "application/vnd.databricks.v1+cell": {
     "cellMetadata": {
      "byteLimit": 2048000,
      "rowLimit": 10000
     },
     "inputWidgets": {},
     "nuid": "e06c39c4-04a2-4e59-87aa-366dfe578044",
     "showTitle": false,
     "title": ""
    }
   },
   "outputs": [],
   "source": [
    "tz_dst_path = 's3a//capstone-techcatalyst-conformed/group4/taxi_zone_lookup/'\n",
    "zone_df.write.mode('overwrite').format('parquet').save(tz_dst_path)"
   ]
  },
  {
   "cell_type": "code",
   "execution_count": 0,
   "metadata": {
    "application/vnd.databricks.v1+cell": {
     "cellMetadata": {
      "byteLimit": 2048000,
      "rowLimit": 10000
     },
     "inputWidgets": {},
     "nuid": "0ede1a69-80c7-4a5e-9c83-6b26aebd2b0f",
     "showTitle": false,
     "title": ""
    }
   },
   "outputs": [],
   "source": []
  }
 ],
 "metadata": {
  "application/vnd.databricks.v1+notebook": {
   "dashboards": [],
   "environmentMetadata": null,
   "language": "python",
   "notebookMetadata": {
    "pythonIndentUnit": 4
   },
   "notebookName": "Accidents_Conformed",
   "widgets": {}
  }
 },
 "nbformat": 4,
 "nbformat_minor": 0
}
