{
 "cells": [
  {
   "cell_type": "code",
   "execution_count": 0,
   "metadata": {
    "application/vnd.databricks.v1+cell": {
     "cellMetadata": {
      "byteLimit": 2048000,
      "rowLimit": 10000
     },
     "inputWidgets": {},
     "nuid": "2136b723-d03e-4bc4-badd-de65f783c750",
     "showTitle": false,
     "title": ""
    }
   },
   "outputs": [
    {
     "output_type": "stream",
     "name": "stdout",
     "output_type": "stream",
     "text": [
      "Requirement already satisfied: geopandas in /local_disk0/.ephemeral_nfs/envs/pythonEnv-4bcfd4e9-b541-48dc-9355-d6e0f28bd30b/lib/python3.9/site-packages (1.0.1)\r\nRequirement already satisfied: fsspec in /local_disk0/.ephemeral_nfs/envs/pythonEnv-4bcfd4e9-b541-48dc-9355-d6e0f28bd30b/lib/python3.9/site-packages (2024.6.1)\r\nRequirement already satisfied: s3fs in /local_disk0/.ephemeral_nfs/envs/pythonEnv-4bcfd4e9-b541-48dc-9355-d6e0f28bd30b/lib/python3.9/site-packages (2024.6.1)\r\nRequirement already satisfied: numpy>=1.22 in /local_disk0/.ephemeral_nfs/envs/pythonEnv-4bcfd4e9-b541-48dc-9355-d6e0f28bd30b/lib/python3.9/site-packages (from geopandas) (2.0.1)\r\nRequirement already satisfied: pyogrio>=0.7.2 in /local_disk0/.ephemeral_nfs/envs/pythonEnv-4bcfd4e9-b541-48dc-9355-d6e0f28bd30b/lib/python3.9/site-packages (from geopandas) (0.9.0)\r\nRequirement already satisfied: pandas>=1.4.0 in /databricks/python3/lib/python3.9/site-packages (from geopandas) (1.4.2)\r\nRequirement already satisfied: packaging in /databricks/python3/lib/python3.9/site-packages (from geopandas) (21.3)\r\nRequirement already satisfied: shapely>=2.0.0 in /local_disk0/.ephemeral_nfs/envs/pythonEnv-4bcfd4e9-b541-48dc-9355-d6e0f28bd30b/lib/python3.9/site-packages (from geopandas) (2.0.5)\r\nRequirement already satisfied: pyproj>=3.3.0 in /local_disk0/.ephemeral_nfs/envs/pythonEnv-4bcfd4e9-b541-48dc-9355-d6e0f28bd30b/lib/python3.9/site-packages (from geopandas) (3.6.1)\r\nRequirement already satisfied: aiobotocore<3.0.0,>=2.5.4 in /local_disk0/.ephemeral_nfs/envs/pythonEnv-4bcfd4e9-b541-48dc-9355-d6e0f28bd30b/lib/python3.9/site-packages (from s3fs) (2.13.1)\r\nRequirement already satisfied: aiohttp!=4.0.0a0,!=4.0.0a1 in /local_disk0/.ephemeral_nfs/envs/pythonEnv-4bcfd4e9-b541-48dc-9355-d6e0f28bd30b/lib/python3.9/site-packages (from s3fs) (3.10.1)\r\nRequirement already satisfied: botocore<1.34.132,>=1.34.70 in /local_disk0/.ephemeral_nfs/envs/pythonEnv-4bcfd4e9-b541-48dc-9355-d6e0f28bd30b/lib/python3.9/site-packages (from aiobotocore<3.0.0,>=2.5.4->s3fs) (1.34.131)\r\nRequirement already satisfied: wrapt<2.0.0,>=1.10.10 in /local_disk0/.ephemeral_nfs/envs/pythonEnv-4bcfd4e9-b541-48dc-9355-d6e0f28bd30b/lib/python3.9/site-packages (from aiobotocore<3.0.0,>=2.5.4->s3fs) (1.16.0)\r\nRequirement already satisfied: aioitertools<1.0.0,>=0.5.1 in /local_disk0/.ephemeral_nfs/envs/pythonEnv-4bcfd4e9-b541-48dc-9355-d6e0f28bd30b/lib/python3.9/site-packages (from aiobotocore<3.0.0,>=2.5.4->s3fs) (0.11.0)\r\nRequirement already satisfied: frozenlist>=1.1.1 in /local_disk0/.ephemeral_nfs/envs/pythonEnv-4bcfd4e9-b541-48dc-9355-d6e0f28bd30b/lib/python3.9/site-packages (from aiohttp!=4.0.0a0,!=4.0.0a1->s3fs) (1.4.1)\r\nRequirement already satisfied: aiohappyeyeballs>=2.3.0 in /local_disk0/.ephemeral_nfs/envs/pythonEnv-4bcfd4e9-b541-48dc-9355-d6e0f28bd30b/lib/python3.9/site-packages (from aiohttp!=4.0.0a0,!=4.0.0a1->s3fs) (2.3.5)\r\nRequirement already satisfied: yarl<2.0,>=1.0 in /local_disk0/.ephemeral_nfs/envs/pythonEnv-4bcfd4e9-b541-48dc-9355-d6e0f28bd30b/lib/python3.9/site-packages (from aiohttp!=4.0.0a0,!=4.0.0a1->s3fs) (1.9.4)\r\nRequirement already satisfied: async-timeout<5.0,>=4.0 in /local_disk0/.ephemeral_nfs/envs/pythonEnv-4bcfd4e9-b541-48dc-9355-d6e0f28bd30b/lib/python3.9/site-packages (from aiohttp!=4.0.0a0,!=4.0.0a1->s3fs) (4.0.3)\r\nRequirement already satisfied: aiosignal>=1.1.2 in /local_disk0/.ephemeral_nfs/envs/pythonEnv-4bcfd4e9-b541-48dc-9355-d6e0f28bd30b/lib/python3.9/site-packages (from aiohttp!=4.0.0a0,!=4.0.0a1->s3fs) (1.3.1)\r\nRequirement already satisfied: multidict<7.0,>=4.5 in /local_disk0/.ephemeral_nfs/envs/pythonEnv-4bcfd4e9-b541-48dc-9355-d6e0f28bd30b/lib/python3.9/site-packages (from aiohttp!=4.0.0a0,!=4.0.0a1->s3fs) (6.0.5)\r\nRequirement already satisfied: attrs>=17.3.0 in /databricks/python3/lib/python3.9/site-packages (from aiohttp!=4.0.0a0,!=4.0.0a1->s3fs) (21.4.0)\r\nRequirement already satisfied: typing_extensions>=4.0 in /databricks/python3/lib/python3.9/site-packages (from aioitertools<1.0.0,>=0.5.1->aiobotocore<3.0.0,>=2.5.4->s3fs) (4.1.1)\r\nRequirement already satisfied: python-dateutil<3.0.0,>=2.1 in /databricks/python3/lib/python3.9/site-packages (from botocore<1.34.132,>=1.34.70->aiobotocore<3.0.0,>=2.5.4->s3fs) (2.8.2)\r\nRequirement already satisfied: urllib3<1.27,>=1.25.4 in /databricks/python3/lib/python3.9/site-packages (from botocore<1.34.132,>=1.34.70->aiobotocore<3.0.0,>=2.5.4->s3fs) (1.26.9)\r\nRequirement already satisfied: jmespath<2.0.0,>=0.7.1 in /databricks/python3/lib/python3.9/site-packages (from botocore<1.34.132,>=1.34.70->aiobotocore<3.0.0,>=2.5.4->s3fs) (0.10.0)\r\nRequirement already satisfied: pytz>=2020.1 in /databricks/python3/lib/python3.9/site-packages (from pandas>=1.4.0->geopandas) (2021.3)\r\nRequirement already satisfied: certifi in /databricks/python3/lib/python3.9/site-packages (from pyogrio>=0.7.2->geopandas) (2021.10.8)\r\nRequirement already satisfied: six>=1.5 in /databricks/python3/lib/python3.9/site-packages (from python-dateutil<3.0.0,>=2.1->botocore<1.34.132,>=1.34.70->aiobotocore<3.0.0,>=2.5.4->s3fs) (1.16.0)\r\nRequirement already satisfied: idna>=2.0 in /databricks/python3/lib/python3.9/site-packages (from yarl<2.0,>=1.0->aiohttp!=4.0.0a0,!=4.0.0a1->s3fs) (3.3)\r\nRequirement already satisfied: pyparsing!=3.0.5,>=2.0.2 in /databricks/python3/lib/python3.9/site-packages (from packaging->geopandas) (3.0.4)\r\n\u001B[33mWARNING: You are using pip version 21.2.4; however, version 24.2 is available.\r\nYou should consider upgrading via the '/local_disk0/.ephemeral_nfs/envs/pythonEnv-4bcfd4e9-b541-48dc-9355-d6e0f28bd30b/bin/python -m pip install --upgrade pip' command.\u001B[0m\r\n"
     ]
    }
   ],
   "source": [
    "!pip install geopandas fsspec s3fs"
   ]
  },
  {
   "cell_type": "code",
   "execution_count": 0,
   "metadata": {
    "application/vnd.databricks.v1+cell": {
     "cellMetadata": {
      "byteLimit": 2048000,
      "rowLimit": 10000
     },
     "inputWidgets": {},
     "nuid": "c1ee87f9-f0a9-46ae-865a-47581692f2b0",
     "showTitle": false,
     "title": ""
    }
   },
   "outputs": [],
   "source": [
    "from pyspark.sql import SparkSession\n",
    "from pyspark.sql import functions as F\n",
    "import pandas as pd\n",
    "import geopandas as gp\n",
    "import fsspec\n",
    "import s3fs\n",
    "import boto3\n",
    "import tempfile"
   ]
  },
  {
   "cell_type": "markdown",
   "metadata": {
    "application/vnd.databricks.v1+cell": {
     "cellMetadata": {
      "byteLimit": 2048000,
      "rowLimit": 10000
     },
     "inputWidgets": {},
     "nuid": "f152b676-4e59-46ae-b923-6850011a47ca",
     "showTitle": false,
     "title": ""
    }
   },
   "source": [
    "#### Setup AWS S3 connection"
   ]
  },
  {
   "cell_type": "code",
   "execution_count": 0,
   "metadata": {
    "application/vnd.databricks.v1+cell": {
     "cellMetadata": {
      "byteLimit": 2048000,
      "rowLimit": 10000
     },
     "inputWidgets": {},
     "nuid": "53c6153f-4079-4e65-8e5f-2e3b38672140",
     "showTitle": false,
     "title": ""
    }
   },
   "outputs": [],
   "source": [
    "aws_access_key_id=''\n",
    "aws_secret_access_key=''\n",
    "\n",
    "spark.conf.set(\"fs.s3a.access.key\", aws_access_key_id)\n",
    "spark.conf.set(\"fs.s3a.secret.key\", aws_secret_access_key)"
   ]
  },
  {
   "cell_type": "markdown",
   "metadata": {
    "application/vnd.databricks.v1+cell": {
     "cellMetadata": {
      "byteLimit": 2048000,
      "rowLimit": 10000
     },
     "inputWidgets": {},
     "nuid": "894c3aeb-6326-4932-915f-a7ddc08a0f7e",
     "showTitle": false,
     "title": ""
    }
   },
   "source": [
    "#### Create boto3 Session"
   ]
  },
  {
   "cell_type": "code",
   "execution_count": 0,
   "metadata": {
    "application/vnd.databricks.v1+cell": {
     "cellMetadata": {
      "byteLimit": 2048000,
      "rowLimit": 10000
     },
     "inputWidgets": {},
     "nuid": "14d1bb03-c35d-4de4-aced-3cab318a7a76",
     "showTitle": false,
     "title": ""
    }
   },
   "outputs": [],
   "source": [
    "session = boto3.Session(aws_access_key_id=aws_access_key_id, aws_secret_access_key=aws_secret_access_key)\n",
    "s3 = session.client('s3')"
   ]
  },
  {
   "cell_type": "markdown",
   "metadata": {
    "application/vnd.databricks.v1+cell": {
     "cellMetadata": {
      "byteLimit": 2048000,
      "rowLimit": 10000
     },
     "inputWidgets": {},
     "nuid": "b0838dd9-9510-44ac-af70-de95e5fa6d50",
     "showTitle": false,
     "title": ""
    }
   },
   "source": [
    "## Extractions"
   ]
  },
  {
   "cell_type": "markdown",
   "metadata": {
    "application/vnd.databricks.v1+cell": {
     "cellMetadata": {
      "byteLimit": 2048000,
      "rowLimit": 10000
     },
     "inputWidgets": {},
     "nuid": "89c485d9-f69d-48cc-a8a6-cb2281c915cd",
     "showTitle": false,
     "title": ""
    }
   },
   "source": [
    "#### Load Taxi Zone Lookup Data"
   ]
  },
  {
   "cell_type": "code",
   "execution_count": 0,
   "metadata": {
    "application/vnd.databricks.v1+cell": {
     "cellMetadata": {
      "byteLimit": 2048000,
      "rowLimit": 10000
     },
     "inputWidgets": {},
     "nuid": "526d9a77-2fdd-4d71-8ea3-55287211cb21",
     "showTitle": false,
     "title": ""
    }
   },
   "outputs": [],
   "source": [
    "src_tz_path = \"s3://capstone-techcatalyst-raw/other/taxi_zone_lookup.csv\"\n",
    "zone_df = spark.read.csv(src_tz_path, header=True)"
   ]
  },
  {
   "cell_type": "code",
   "execution_count": 0,
   "metadata": {
    "application/vnd.databricks.v1+cell": {
     "cellMetadata": {
      "byteLimit": 2048000,
      "rowLimit": 10000
     },
     "inputWidgets": {},
     "nuid": "95b49e83-ebbe-4a13-88a2-b48c0137e909",
     "showTitle": false,
     "title": ""
    }
   },
   "outputs": [
    {
     "output_type": "stream",
     "name": "stdout",
     "output_type": "stream",
     "text": [
      "root\n |-- LocationID: string (nullable = true)\n |-- Borough: string (nullable = true)\n |-- Zone: string (nullable = true)\n |-- service_zone: string (nullable = true)\n\n"
     ]
    }
   ],
   "source": [
    "zone_df.printSchema()"
   ]
  },
  {
   "cell_type": "markdown",
   "metadata": {
    "application/vnd.databricks.v1+cell": {
     "cellMetadata": {
      "byteLimit": 2048000,
      "rowLimit": 10000
     },
     "inputWidgets": {},
     "nuid": "c5cf049a-0374-4d8b-b57e-983a60daa168",
     "showTitle": false,
     "title": ""
    }
   },
   "source": [
    "#### Load NYC Accident Data"
   ]
  },
  {
   "cell_type": "code",
   "execution_count": 0,
   "metadata": {
    "application/vnd.databricks.v1+cell": {
     "cellMetadata": {
      "byteLimit": 2048000,
      "rowLimit": 10000
     },
     "inputWidgets": {},
     "nuid": "269dfb1e-0612-48ca-ac8c-08e4d328e5ef",
     "showTitle": false,
     "title": ""
    }
   },
   "outputs": [],
   "source": [
    "src_acc_path = \"s3://capstone-techcatalyst-raw/group_4_other/Motor_Vehicle_Collisions_-_Crashes_20240731.csv\" \n",
    "acc_df = spark.read.csv(src_acc_path, header=True)"
   ]
  },
  {
   "cell_type": "markdown",
   "metadata": {
    "application/vnd.databricks.v1+cell": {
     "cellMetadata": {
      "byteLimit": 2048000,
      "rowLimit": 10000
     },
     "inputWidgets": {},
     "nuid": "4857af6c-b77d-449b-8da0-4ecd4bd5e4e5",
     "showTitle": false,
     "title": ""
    }
   },
   "source": [
    "#### Load the GeoSpace Data for Boroughs"
   ]
  },
  {
   "cell_type": "code",
   "execution_count": 0,
   "metadata": {
    "application/vnd.databricks.v1+cell": {
     "cellMetadata": {
      "byteLimit": 2048000,
      "rowLimit": 10000
     },
     "inputWidgets": {},
     "nuid": "562ee1ac-2eb1-4180-8068-fe0230a0d1ec",
     "showTitle": false,
     "title": ""
    }
   },
   "outputs": [],
   "source": [
    "\n",
    "bucket = 'capstone-techcatalyst-raw'\n",
    "key = 'group_4_other/Borough Boundaries.geojson'\n",
    "\n",
    "with tempfile.NamedTemporaryFile(delete=False, suffix=\".geojson\") as tmp_file:\n",
    "    temp_file_path = tmp_file.name\n",
    "\n",
    "s3.download_file(bucket, key, temp_file_path)\n",
    "gdf = gp.read_file(temp_file_path)\n",
    "gdf = gdf[['boro_name','geometry']]\n",
    "\n"
   ]
  },
  {
   "cell_type": "markdown",
   "metadata": {
    "application/vnd.databricks.v1+cell": {
     "cellMetadata": {
      "byteLimit": 2048000,
      "rowLimit": 10000
     },
     "inputWidgets": {},
     "nuid": "0e8ac504-d517-4c24-86b2-988d42d8e174",
     "showTitle": false,
     "title": ""
    }
   },
   "source": [
    "## Transformations"
   ]
  },
  {
   "cell_type": "markdown",
   "metadata": {
    "application/vnd.databricks.v1+cell": {
     "cellMetadata": {
      "byteLimit": 2048000,
      "rowLimit": 10000
     },
     "inputWidgets": {},
     "nuid": "136d2c0f-3237-46f6-9095-4e3168a466a1",
     "showTitle": false,
     "title": ""
    }
   },
   "source": [
    "### Change Crash Date columntype to Datetime"
   ]
  },
  {
   "cell_type": "code",
   "execution_count": 0,
   "metadata": {
    "application/vnd.databricks.v1+cell": {
     "cellMetadata": {
      "byteLimit": 2048000,
      "rowLimit": 10000
     },
     "inputWidgets": {},
     "nuid": "521a84fe-a2d6-4fb5-81c2-9ed2fabe8935",
     "showTitle": false,
     "title": ""
    }
   },
   "outputs": [],
   "source": [
    "acc_df=acc_df.withColumn('CRASH DATE', F.to_date('CRASH DATE',\"MM/dd/yyyy\"))"
   ]
  },
  {
   "cell_type": "markdown",
   "metadata": {
    "application/vnd.databricks.v1+cell": {
     "cellMetadata": {
      "byteLimit": 2048000,
      "rowLimit": 10000
     },
     "inputWidgets": {},
     "nuid": "593ea759-0cd8-4f5c-946b-495aa7b49120",
     "showTitle": false,
     "title": ""
    }
   },
   "source": [
    "### Filter Data to 5 Years from current date"
   ]
  },
  {
   "cell_type": "code",
   "execution_count": 0,
   "metadata": {
    "application/vnd.databricks.v1+cell": {
     "cellMetadata": {
      "byteLimit": 2048000,
      "rowLimit": 10000
     },
     "inputWidgets": {},
     "nuid": "cfa8a18a-76a6-452f-adec-e591a07fcd30",
     "showTitle": false,
     "title": ""
    }
   },
   "outputs": [],
   "source": [
    "acc_df = acc_df.filter(acc_df[\"CRASH DATE\"] >= \"2019-01-01\")"
   ]
  },
  {
   "cell_type": "markdown",
   "metadata": {
    "application/vnd.databricks.v1+cell": {
     "cellMetadata": {
      "byteLimit": 2048000,
      "rowLimit": 10000
     },
     "inputWidgets": {},
     "nuid": "26740ddd-283d-4293-aa6c-b9501c5d8c7a",
     "showTitle": false,
     "title": ""
    }
   },
   "source": [
    "### Remove Irrelevant Columns"
   ]
  },
  {
   "cell_type": "code",
   "execution_count": 0,
   "metadata": {
    "application/vnd.databricks.v1+cell": {
     "cellMetadata": {
      "byteLimit": 2048000,
      "rowLimit": 10000
     },
     "collapsed": true,
     "inputWidgets": {},
     "nuid": "aa2eca3e-1b7f-444b-955d-c9c8db98339f",
     "showTitle": false,
     "title": ""
    }
   },
   "outputs": [
    {
     "output_type": "stream",
     "name": "stdout",
     "output_type": "stream",
     "text": [
      "(0, 'CRASH DATE')\n(1, 'CRASH TIME')\n(2, 'BOROUGH')\n(3, 'ZIP CODE')\n(4, 'LATITUDE')\n(5, 'LONGITUDE')\n(6, 'LOCATION')\n(7, 'ON STREET NAME')\n(8, 'CROSS STREET NAME')\n(9, 'OFF STREET NAME')\n(10, 'NUMBER OF PERSONS INJURED')\n(11, 'NUMBER OF PERSONS KILLED')\n(12, 'NUMBER OF PEDESTRIANS INJURED')\n(13, 'NUMBER OF PEDESTRIANS KILLED')\n(14, 'NUMBER OF CYCLIST INJURED')\n(15, 'NUMBER OF CYCLIST KILLED')\n(16, 'NUMBER OF MOTORIST INJURED')\n(17, 'NUMBER OF MOTORIST KILLED')\n(18, 'CONTRIBUTING FACTOR VEHICLE 1')\n(19, 'CONTRIBUTING FACTOR VEHICLE 2')\n(20, 'CONTRIBUTING FACTOR VEHICLE 3')\n(21, 'CONTRIBUTING FACTOR VEHICLE 4')\n(22, 'CONTRIBUTING FACTOR VEHICLE 5')\n(23, 'COLLISION_ID')\n(24, 'VEHICLE TYPE CODE 1')\n(25, 'VEHICLE TYPE CODE 2')\n(26, 'VEHICLE TYPE CODE 3')\n(27, 'VEHICLE TYPE CODE 4')\n(28, 'VEHICLE TYPE CODE 5')\n"
     ]
    }
   ],
   "source": [
    "columns_list = acc_df.columns\n",
    "for item in enumerate(columns_list):\n",
    "    print(item)"
   ]
  },
  {
   "cell_type": "markdown",
   "metadata": {
    "application/vnd.databricks.v1+cell": {
     "cellMetadata": {
      "byteLimit": 2048000,
      "rowLimit": 10000
     },
     "inputWidgets": {},
     "nuid": "e0c3ce30-29ab-4ac1-b91a-a037ffd66316",
     "showTitle": false,
     "title": ""
    }
   },
   "source": [
    "#### Run Statistics on Columns"
   ]
  },
  {
   "cell_type": "code",
   "execution_count": 0,
   "metadata": {
    "application/vnd.databricks.v1+cell": {
     "cellMetadata": {
      "byteLimit": 2048000,
      "rowLimit": 10000
     },
     "inputWidgets": {},
     "nuid": "b46aa769-9ca7-49f4-a9d3-73aa3982e2d8",
     "showTitle": false,
     "title": ""
    }
   },
   "outputs": [
    {
     "output_type": "stream",
     "name": "stdout",
     "output_type": "stream",
     "text": [
      "CFV 1 Taxi: 3.35% 23007\nCFV 2 Taxi: 1.98% 13603\nCFV 3 Taxi: 0.15% 1034\nCFV 4 Taxi: 0.03% 222\nCFV 5 Taxi: 0.01% 65\n"
     ]
    }
   ],
   "source": [
    "missing_data_count = acc_df.filter(acc_df['VEHICLE TYPE CODE 1'] == 'Taxi').count()\n",
    "total_row_count = acc_df.count()\n",
    "print(f'CFV 1 Taxi: {round((missing_data_count/total_row_count)*100, 2)}% {missing_data_count}')\n",
    "\n",
    "missing_data_count = acc_df.filter(acc_df['VEHICLE TYPE CODE 2'] == 'Taxi').count()\n",
    "print(f'CFV 2 Taxi: {round((missing_data_count/total_row_count)*100, 2)}% {missing_data_count}')\n",
    "\n",
    "missing_data_count = acc_df.filter(acc_df['VEHICLE TYPE CODE 3'] == 'Taxi').count()\n",
    "print(f'CFV 3 Taxi: {round((missing_data_count/total_row_count)*100, 2)}% {missing_data_count}')\n",
    "\n",
    "missing_data_count = acc_df.filter(acc_df['VEHICLE TYPE CODE 4'] == 'Taxi').count()\n",
    "print(f'CFV 4 Taxi: {round((missing_data_count/total_row_count)*100, 2)}% {missing_data_count}')\n",
    "\n",
    "missing_data_count = acc_df.filter(acc_df['VEHICLE TYPE CODE 5'] == 'Taxi').count()\n",
    "print(f'CFV 5 Taxi: {round((missing_data_count/total_row_count)*100, 2)}% {missing_data_count}')"
   ]
  },
  {
   "cell_type": "code",
   "execution_count": 0,
   "metadata": {
    "application/vnd.databricks.v1+cell": {
     "cellMetadata": {
      "byteLimit": 2048000,
      "rowLimit": 10000
     },
     "inputWidgets": {},
     "nuid": "2ebf638a-7427-4a79-a97c-5c94ed103204",
     "showTitle": false,
     "title": ""
    }
   },
   "outputs": [
    {
     "output_type": "stream",
     "name": "stdout",
     "output_type": "stream",
     "text": [
      "CFV 1 Null: 0.49%\nCFV 2 Null: 20.62%\nCFV 3 Null: 91.31%\nCFV 4 Null: 97.78%\nCFV 5 Null: 99.35%\n"
     ]
    }
   ],
   "source": [
    "missing_data_count = acc_df.filter(acc_df['CONTRIBUTING FACTOR VEHICLE 1'].isNull()).count()\n",
    "total_row_count = acc_df.count()\n",
    "print(f'CFV 1 Null: {round((missing_data_count/total_row_count)*100, 2)}%')\n",
    "\n",
    "missing_data_count = acc_df.filter(acc_df['CONTRIBUTING FACTOR VEHICLE 2'].isNull()).count()\n",
    "print(f'CFV 2 Null: {round((missing_data_count/total_row_count)*100, 2)}%')\n",
    "\n",
    "missing_data_count = acc_df.filter(acc_df['CONTRIBUTING FACTOR VEHICLE 3'].isNull()).count()\n",
    "print(f'CFV 3 Null: {round((missing_data_count/total_row_count)*100, 2)}%')\n",
    "\n",
    "missing_data_count = acc_df.filter(acc_df['CONTRIBUTING FACTOR VEHICLE 4'].isNull()).count()\n",
    "print(f'CFV 4 Null: {round((missing_data_count/total_row_count)*100, 2)}%')\n",
    "\n",
    "missing_data_count = acc_df.filter(acc_df['CONTRIBUTING FACTOR VEHICLE 5'].isNull()).count()\n",
    "print(f'CFV 5 Null: {round((missing_data_count/total_row_count)*100, 2)}%')\n"
   ]
  },
  {
   "cell_type": "code",
   "execution_count": 0,
   "metadata": {
    "application/vnd.databricks.v1+cell": {
     "cellMetadata": {
      "byteLimit": 2048000,
      "rowLimit": 10000
     },
     "inputWidgets": {},
     "nuid": "37f359f1-a966-41f7-b938-ed5b35ce098c",
     "showTitle": false,
     "title": ""
    }
   },
   "outputs": [],
   "source": [
    "redux_acc_df = acc_df.select([*columns_list[0:7], *columns_list[10:20], *columns_list[23:26]])"
   ]
  },
  {
   "cell_type": "markdown",
   "metadata": {
    "application/vnd.databricks.v1+cell": {
     "cellMetadata": {
      "byteLimit": 2048000,
      "rowLimit": 10000
     },
     "inputWidgets": {},
     "nuid": "60aa5426-7c45-4f89-8cd3-56b4dd94fc46",
     "showTitle": false,
     "title": ""
    }
   },
   "source": [
    "### Fill Missing Longitude and Latitude when Borough is known"
   ]
  },
  {
   "cell_type": "code",
   "execution_count": 0,
   "metadata": {
    "application/vnd.databricks.v1+cell": {
     "cellMetadata": {
      "byteLimit": 2048000,
      "rowLimit": 10000
     },
     "inputWidgets": {},
     "nuid": "1a5a0722-6ec6-4861-ba88-2d1319d5ed87",
     "showTitle": false,
     "title": ""
    }
   },
   "outputs": [],
   "source": [
    "borough_coords = {'MANHATTAN':['40.776676','-73.971321'],\n",
    "                  'BRONX':['40.837048', '-73.865433'],\n",
    "                  'BROOKLYN':['40.650002', '-73.949997'],\n",
    "                  'STATEN ISLAND':['40.579021', '-74.151535'],\n",
    "                  'QUEENS':['40.742054', '-73.769417']}"
   ]
  },
  {
   "cell_type": "code",
   "execution_count": 0,
   "metadata": {
    "application/vnd.databricks.v1+cell": {
     "cellMetadata": {
      "byteLimit": 2048000,
      "rowLimit": 10000
     },
     "inputWidgets": {},
     "nuid": "ae46bdad-a4b9-4b1b-86af-e2b610d83b01",
     "showTitle": false,
     "title": ""
    }
   },
   "outputs": [],
   "source": [
    "redux_acc_df = redux_acc_df.withColumn('LONGITUDE',\n",
    "                   F.when((F.col('Borough')=='MANHATTAN') & (F.col('LONGITUDE').isNull()) , borough_coords['MANHATTAN'][1])\n",
    "                   .when((F.col('Borough')=='BRONX') & (F.col('LONGITUDE').isNull()) , borough_coords['BRONX'][1])\n",
    "                   .when((F.col('Borough')=='BROOKLYN') & (F.col('LONGITUDE').isNull()) , borough_coords['BROOKLYN'][1])\n",
    "                   .when((F.col('Borough')=='STATEN ISLAND') & (F.col('LONGITUDE').isNull()) , borough_coords['STATEN ISLAND'][1])\n",
    "                   .when((F.col('Borough')=='QUEENS') & (F.col('LONGITUDE').isNull()) , borough_coords['QUEENS'][1])\n",
    "                   .otherwise(redux_acc_df['LONGITUDE'])\n",
    "                   )\n",
    "redux_acc_df = redux_acc_df.withColumn('LATITUDE',\n",
    "                   F.when((F.col('Borough')=='MANHATTAN') & (F.col('LATITUDE').isNull()) , borough_coords['MANHATTAN'][0])\n",
    "                   .when((F.col('Borough')=='BRONX') & (F.col('LATITUDE').isNull()) , borough_coords['BRONX'][0])\n",
    "                   .when((F.col('Borough')=='BROOKLYN') & (F.col('LATITUDE').isNull()) , borough_coords['BROOKLYN'][0])\n",
    "                   .when((F.col('Borough')=='STATEN ISLAND') & (F.col('LATITUDE').isNull()) , borough_coords['STATEN ISLAND'][0])\n",
    "                   .when((F.col('Borough')=='QUEENS') & (F.col('LATITUDE').isNull()) , borough_coords['QUEENS'][0])\n",
    "                   .otherwise(redux_acc_df['LATITUDE'])\n",
    "                   )\n",
    "redux_acc_df = redux_acc_df.withColumn('LOCATION',\n",
    "                   F.when(\n",
    "                     ((F.col('LATITUDE').isNotNull()) & (F.col('LONGITUDE').isNotNull()) & F.col('LOCATION').isNull()),\n",
    "                      F.concat(F.lit('('),F.col('LATITUDE'),F.lit(','),F.col('LONGITUDE'),F.lit(')')))\n",
    "                   .otherwise(redux_acc_df['LOCATION'])\n",
    "                   )\n",
    "                   "
   ]
  },
  {
   "cell_type": "markdown",
   "metadata": {
    "application/vnd.databricks.v1+cell": {
     "cellMetadata": {
      "byteLimit": 2048000,
      "rowLimit": 10000
     },
     "inputWidgets": {},
     "nuid": "8de41aef-5f83-4857-9f7d-bb027d8c2cb3",
     "showTitle": false,
     "title": ""
    }
   },
   "source": [
    "##### Run Stats on Transformations"
   ]
  },
  {
   "cell_type": "code",
   "execution_count": 0,
   "metadata": {
    "application/vnd.databricks.v1+cell": {
     "cellMetadata": {
      "byteLimit": 2048000,
      "rowLimit": 10000
     },
     "inputWidgets": {},
     "nuid": "65edd3c7-51ef-4781-a8aa-a60ffacc2ed4",
     "showTitle": false,
     "title": ""
    }
   },
   "outputs": [],
   "source": [
    "null_long_lat = acc_df.filter((acc_df['LONGITUDE'].isNull())|(acc_df['LATITUDE']).isNull()).count()\n",
    "null_loc = acc_df.filter((acc_df['LOCATION'].isNull())).count()\n",
    "null_long_lat2 = redux_acc_df.filter((redux_acc_df['LONGITUDE'].isNull())|(redux_acc_df['LATITUDE']).isNull()).count()\n",
    "null_loc2 = redux_acc_df.filter((redux_acc_df['LOCATION'].isNull())).count()\n",
    "null_taxi = acc_df.filter((((acc_df['LONGITUDE'].isNull())|(acc_df['LATITUDE']).isNull())&(acc_df['VEHICLE TYPE CODE 1']=='Taxi'))).count()\n",
    "null_taxi2 = redux_acc_df.filter((((redux_acc_df['LONGITUDE'].isNull())|(redux_acc_df['LATITUDE']).isNull())&(redux_acc_df['VEHICLE TYPE CODE 1']=='Taxi'))).count()\n"
   ]
  },
  {
   "cell_type": "code",
   "execution_count": 0,
   "metadata": {
    "application/vnd.databricks.v1+cell": {
     "cellMetadata": {
      "byteLimit": 2048000,
      "rowLimit": 10000
     },
     "inputWidgets": {},
     "nuid": "f22384d9-4a5c-44ef-a411-395ab6252676",
     "showTitle": false,
     "title": ""
    }
   },
   "outputs": [
    {
     "output_type": "stream",
     "name": "stdout",
     "output_type": "stream",
     "text": [
      "Prev Long Lat: 55272, after:42805\nPrev Loc: 55272, after: 42805\nPrevious Null Taxi Rows of Total Rows:1619 0.24%\nRemaining Null Rows of Total Rows: 6.23%\n"
     ]
    }
   ],
   "source": [
    "print(f'Prev Long Lat: {null_long_lat}, after:{null_long_lat2}')\n",
    "print(f'Prev Loc: {null_loc}, after: {null_loc2}')\n",
    "print(f'Previous Null Taxi Rows of Total Rows:{null_taxi} {round((null_taxi/total_row_count)*100, 2)}%')\n",
    "print(f'Remaining Null Rows of Total Rows: {round((null_long_lat2/total_row_count)*100, 2)}%')"
   ]
  },
  {
   "cell_type": "markdown",
   "metadata": {
    "application/vnd.databricks.v1+cell": {
     "cellMetadata": {},
     "inputWidgets": {},
     "nuid": "146ee0aa-8dd4-4d92-a9ad-7c069beab1f3",
     "showTitle": false,
     "title": ""
    }
   },
   "source": [
    "### Drop Rows with Null Location & Null Longitude & Null Latitude & Null Borough"
   ]
  },
  {
   "cell_type": "code",
   "execution_count": 0,
   "metadata": {
    "application/vnd.databricks.v1+cell": {
     "cellMetadata": {
      "byteLimit": 2048000,
      "rowLimit": 10000
     },
     "inputWidgets": {},
     "nuid": "ee0bcb88-c4d6-4e98-8244-f899454e9431",
     "showTitle": false,
     "title": ""
    }
   },
   "outputs": [],
   "source": [
    "redux_acc_df = redux_acc_df.dropna(subset=['LONGITUDE','LATITUDE'])"
   ]
  },
  {
   "cell_type": "markdown",
   "metadata": {
    "application/vnd.databricks.v1+cell": {
     "cellMetadata": {},
     "inputWidgets": {},
     "nuid": "60a4d6b2-2c95-4a17-826a-9cb6295c10c2",
     "showTitle": false,
     "title": ""
    }
   },
   "source": [
    "##### Run Stats on Transformations"
   ]
  },
  {
   "cell_type": "code",
   "execution_count": 0,
   "metadata": {
    "application/vnd.databricks.v1+cell": {
     "cellMetadata": {
      "byteLimit": 2048000,
      "rowLimit": 10000
     },
     "inputWidgets": {},
     "nuid": "6ca972ac-108c-4c7c-9fc3-2ec6556247ae",
     "showTitle": false,
     "title": ""
    }
   },
   "outputs": [
    {
     "output_type": "stream",
     "name": "stdout",
     "output_type": "stream",
     "text": [
      "Prev Long Lat: 55272, after:0\nPrev Loc: 55272, after: 0\n"
     ]
    }
   ],
   "source": [
    "null_long_lat = acc_df.filter((acc_df['LONGITUDE'].isNull())|(acc_df['LATITUDE']).isNull()).count()\n",
    "null_loc = acc_df.filter((acc_df['LOCATION'].isNull())).count()\n",
    "null_long_lat2 = redux_acc_df.filter((redux_acc_df['LONGITUDE'].isNull())|(redux_acc_df['LATITUDE']).isNull()).count()\n",
    "null_loc2 = redux_acc_df.filter((redux_acc_df['LOCATION'].isNull())).count()\n",
    "print(f'Prev Long Lat: {null_long_lat}, after:{null_long_lat2}')\n",
    "print(f'Prev Loc: {null_loc}, after: {null_loc2}')"
   ]
  },
  {
   "cell_type": "markdown",
   "metadata": {
    "application/vnd.databricks.v1+cell": {
     "cellMetadata": {
      "byteLimit": 2048000,
      "rowLimit": 10000
     },
     "inputWidgets": {},
     "nuid": "d303fb66-79a1-409f-a914-ec272bfa6b43",
     "showTitle": false,
     "title": ""
    }
   },
   "source": [
    "### Fill NULL contributing factor columns with 'Unspecified'"
   ]
  },
  {
   "cell_type": "code",
   "execution_count": 0,
   "metadata": {
    "application/vnd.databricks.v1+cell": {
     "cellMetadata": {
      "byteLimit": 2048000,
      "rowLimit": 10000
     },
     "inputWidgets": {},
     "nuid": "91436b84-0025-4080-b850-1d7b75549f9b",
     "showTitle": false,
     "title": ""
    }
   },
   "outputs": [],
   "source": [
    "redux_acc_df = redux_acc_df.fillna('Unspecified', subset=['CONTRIBUTING FACTOR VEHICLE 1', 'CONTRIBUTING FACTOR VEHICLE 2'])"
   ]
  },
  {
   "cell_type": "code",
   "execution_count": 0,
   "metadata": {
    "application/vnd.databricks.v1+cell": {
     "cellMetadata": {
      "byteLimit": 2048000,
      "rowLimit": 10000
     },
     "inputWidgets": {},
     "nuid": "c3eeb4b1-fb41-4cbf-af4e-fb391f7d7d40",
     "showTitle": false,
     "title": ""
    }
   },
   "outputs": [],
   "source": [
    "for column in redux_acc_df.columns[7:15]:\n",
    "    redux_acc_df = redux_acc_df.withColumn(column, F.col(column).cast('int'))"
   ]
  },
  {
   "cell_type": "code",
   "execution_count": 0,
   "metadata": {
    "application/vnd.databricks.v1+cell": {
     "cellMetadata": {
      "byteLimit": 2048000,
      "rowLimit": 10000
     },
     "inputWidgets": {},
     "nuid": "83e21a1e-43ca-4c44-b369-cbe6bb8a880d",
     "showTitle": false,
     "title": ""
    }
   },
   "outputs": [],
   "source": [
    "#error_df = acc_df.select('*').where((F.col('COLLISION_ID') == '4705210')|(F.col('COLLISION_ID') == '4193037')|(F.col('COLLISION_ID') == '4369625')|(F.#col('COLLISION_ID') == '4573357'))\n",
    "#display(error_df)"
   ]
  },
  {
   "cell_type": "code",
   "execution_count": 0,
   "metadata": {
    "application/vnd.databricks.v1+cell": {
     "cellMetadata": {
      "byteLimit": 2048000,
      "rowLimit": 10000
     },
     "inputWidgets": {},
     "nuid": "dedf81b2-aa74-4c5e-a66e-3e47d8e07777",
     "showTitle": false,
     "title": ""
    }
   },
   "outputs": [
    {
     "output_type": "display_data",
     "data": {
      "text/html": [
       "<style scoped>\n",
       "  .table-result-container {\n",
       "    max-height: 300px;\n",
       "    overflow: auto;\n",
       "  }\n",
       "  table, th, td {\n",
       "    border: 1px solid black;\n",
       "    border-collapse: collapse;\n",
       "  }\n",
       "  th, td {\n",
       "    padding: 5px;\n",
       "  }\n",
       "  th {\n",
       "    text-align: left;\n",
       "  }\n",
       "</style><div class='table-result-container'><table class='table-result'><thead style='background-color: white'><tr><th>CRASH DATE</th><th>CRASH TIME</th><th>BOROUGH</th><th>ZIP CODE</th><th>LATITUDE</th><th>LONGITUDE</th><th>LOCATION</th><th>NUMBER OF PERSONS INJURED</th><th>NUMBER OF PERSONS KILLED</th><th>NUMBER OF PEDESTRIANS INJURED</th><th>NUMBER OF PEDESTRIANS KILLED</th><th>NUMBER OF CYCLIST INJURED</th><th>NUMBER OF CYCLIST KILLED</th><th>NUMBER OF MOTORIST INJURED</th><th>NUMBER OF MOTORIST KILLED</th><th>CONTRIBUTING FACTOR VEHICLE 1</th><th>CONTRIBUTING FACTOR VEHICLE 2</th><th>COLLISION_ID</th><th>VEHICLE TYPE CODE 1</th><th>VEHICLE TYPE CODE 2</th></tr></thead><tbody><tr><td>2021-09-11</td><td>9:35</td><td>BROOKLYN</td><td>11208</td><td>40.667202</td><td>-73.8665</td><td>(40.667202, -73.8665)</td><td>0</td><td>0</td><td>0</td><td>0</td><td>0</td><td>0</td><td>0</td><td>0</td><td>Unspecified</td><td>Unspecified</td><td>4456314</td><td>Sedan</td><td>Unspecified</td></tr><tr><td>2021-12-14</td><td>8:13</td><td>BROOKLYN</td><td>11233</td><td>40.683304</td><td>-73.917274</td><td>(40.683304, -73.917274)</td><td>0</td><td>0</td><td>0</td><td>0</td><td>0</td><td>0</td><td>0</td><td>0</td><td>Unspecified</td><td>Unspecified</td><td>4486609</td><td>Unspecified</td><td>Unspecified</td></tr><tr><td>2021-12-14</td><td>17:05</td><td>null</td><td>null</td><td>40.709183</td><td>-73.956825</td><td>(40.709183, -73.956825)</td><td>0</td><td>0</td><td>0</td><td>0</td><td>0</td><td>0</td><td>0</td><td>0</td><td>Passing Too Closely</td><td>Unspecified</td><td>4486555</td><td>Sedan</td><td>Tractor Truck Diesel</td></tr><tr><td>2021-12-14</td><td>8:17</td><td>BRONX</td><td>10475</td><td>40.86816</td><td>-73.83148</td><td>(40.86816, -73.83148)</td><td>2</td><td>0</td><td>0</td><td>0</td><td>0</td><td>0</td><td>2</td><td>0</td><td>Unspecified</td><td>Unspecified</td><td>4486660</td><td>Sedan</td><td>Sedan</td></tr><tr><td>2021-12-14</td><td>21:10</td><td>BROOKLYN</td><td>11207</td><td>40.67172</td><td>-73.8971</td><td>(40.67172, -73.8971)</td><td>0</td><td>0</td><td>0</td><td>0</td><td>0</td><td>0</td><td>0</td><td>0</td><td>Driver Inexperience</td><td>Unspecified</td><td>4487074</td><td>Sedan</td><td>Unspecified</td></tr></tbody></table></div>"
      ]
     },
     "metadata": {
      "application/vnd.databricks.v1+output": {
       "addedWidgets": {},
       "aggData": [],
       "aggError": "",
       "aggOverflow": false,
       "aggSchema": [],
       "aggSeriesLimitReached": false,
       "aggType": "",
       "arguments": {},
       "columnCustomDisplayInfos": {},
       "data": [
        [
         "2021-09-11",
         "9:35",
         "BROOKLYN",
         "11208",
         "40.667202",
         "-73.8665",
         "(40.667202, -73.8665)",
         0,
         0,
         0,
         0,
         0,
         0,
         0,
         0,
         "Unspecified",
         "Unspecified",
         "4456314",
         "Sedan",
         "Unspecified"
        ],
        [
         "2021-12-14",
         "8:13",
         "BROOKLYN",
         "11233",
         "40.683304",
         "-73.917274",
         "(40.683304, -73.917274)",
         0,
         0,
         0,
         0,
         0,
         0,
         0,
         0,
         "Unspecified",
         "Unspecified",
         "4486609",
         "Unspecified",
         "Unspecified"
        ],
        [
         "2021-12-14",
         "17:05",
         null,
         null,
         "40.709183",
         "-73.956825",
         "(40.709183, -73.956825)",
         0,
         0,
         0,
         0,
         0,
         0,
         0,
         0,
         "Passing Too Closely",
         "Unspecified",
         "4486555",
         "Sedan",
         "Tractor Truck Diesel"
        ],
        [
         "2021-12-14",
         "8:17",
         "BRONX",
         "10475",
         "40.86816",
         "-73.83148",
         "(40.86816, -73.83148)",
         2,
         0,
         0,
         0,
         0,
         0,
         2,
         0,
         "Unspecified",
         "Unspecified",
         "4486660",
         "Sedan",
         "Sedan"
        ],
        [
         "2021-12-14",
         "21:10",
         "BROOKLYN",
         "11207",
         "40.67172",
         "-73.8971",
         "(40.67172, -73.8971)",
         0,
         0,
         0,
         0,
         0,
         0,
         0,
         0,
         "Driver Inexperience",
         "Unspecified",
         "4487074",
         "Sedan",
         "Unspecified"
        ]
       ],
       "datasetInfos": [],
       "dbfsResultPath": null,
       "isJsonSchema": true,
       "metadata": {},
       "overflow": false,
       "plotOptions": {
        "customPlotOptions": {},
        "displayType": "table",
        "pivotAggregation": null,
        "pivotColumns": null,
        "xColumns": null,
        "yColumns": null
       },
       "removedWidgets": [],
       "schema": [
        {
         "metadata": "{}",
         "name": "CRASH DATE",
         "type": "\"date\""
        },
        {
         "metadata": "{}",
         "name": "CRASH TIME",
         "type": "\"string\""
        },
        {
         "metadata": "{}",
         "name": "BOROUGH",
         "type": "\"string\""
        },
        {
         "metadata": "{}",
         "name": "ZIP CODE",
         "type": "\"string\""
        },
        {
         "metadata": "{}",
         "name": "LATITUDE",
         "type": "\"string\""
        },
        {
         "metadata": "{}",
         "name": "LONGITUDE",
         "type": "\"string\""
        },
        {
         "metadata": "{}",
         "name": "LOCATION",
         "type": "\"string\""
        },
        {
         "metadata": "{}",
         "name": "NUMBER OF PERSONS INJURED",
         "type": "\"integer\""
        },
        {
         "metadata": "{}",
         "name": "NUMBER OF PERSONS KILLED",
         "type": "\"integer\""
        },
        {
         "metadata": "{}",
         "name": "NUMBER OF PEDESTRIANS INJURED",
         "type": "\"integer\""
        },
        {
         "metadata": "{}",
         "name": "NUMBER OF PEDESTRIANS KILLED",
         "type": "\"integer\""
        },
        {
         "metadata": "{}",
         "name": "NUMBER OF CYCLIST INJURED",
         "type": "\"integer\""
        },
        {
         "metadata": "{}",
         "name": "NUMBER OF CYCLIST KILLED",
         "type": "\"integer\""
        },
        {
         "metadata": "{}",
         "name": "NUMBER OF MOTORIST INJURED",
         "type": "\"integer\""
        },
        {
         "metadata": "{}",
         "name": "NUMBER OF MOTORIST KILLED",
         "type": "\"integer\""
        },
        {
         "metadata": "{}",
         "name": "CONTRIBUTING FACTOR VEHICLE 1",
         "type": "\"string\""
        },
        {
         "metadata": "{}",
         "name": "CONTRIBUTING FACTOR VEHICLE 2",
         "type": "\"string\""
        },
        {
         "metadata": "{}",
         "name": "COLLISION_ID",
         "type": "\"string\""
        },
        {
         "metadata": "{}",
         "name": "VEHICLE TYPE CODE 1",
         "type": "\"string\""
        },
        {
         "metadata": "{}",
         "name": "VEHICLE TYPE CODE 2",
         "type": "\"string\""
        }
       ],
       "type": "table"
      }
     },
     "output_type": "display_data"
    }
   ],
   "source": [
    "display(redux_acc_df.limit(5))"
   ]
  },
  {
   "cell_type": "code",
   "execution_count": 0,
   "metadata": {
    "application/vnd.databricks.v1+cell": {
     "cellMetadata": {
      "byteLimit": 2048000,
      "rowLimit": 10000
     },
     "inputWidgets": {},
     "nuid": "8c5ff75b-54c9-498c-892d-0d93f9594094",
     "showTitle": false,
     "title": ""
    }
   },
   "outputs": [],
   "source": [
    "redux_acc_df2 = redux_acc_df.withColumn(\"YEAR\", F.date_format('CRASH DATE', 'yyyy'))\n",
    "redux_acc_df2 = redux_acc_df2.withColumn(\"MONTH\", F.date_format('CRASH DATE', 'MM'))\n",
    "redux_acc_df2 = redux_acc_df2.withColumn(\"DAY OF MONTH\", F.dayofmonth('CRASH DATE'))\n",
    "redux_acc_df2 = redux_acc_df2.withColumn(\"DAY OF WEEK\", F.date_format('CRASH DATE', 'EEEE'))\n",
    "redux_acc_df2 = redux_acc_df2.withColumn(\"IS WEEKEND\", F.dayofweek(\"CRASH DATE\").isin([1,7]).cast(\"boolean\"))\n",
    "redux_acc_df2 = redux_acc_df2.withColumn(\"CRASH DATETIME\", F.date_format(F.to_timestamp(F.concat(F.col(\"CRASH DATE\"), F.lit(\" \"), F.col(\"CRASH TIME\"))), 'yyyy-MM-dd HH:mm'))\n",
    "redux_acc_df2 = redux_acc_df2.select(redux_acc_df2.columns[-1], *redux_acc_df2.columns[0:-1])\n"
   ]
  },
  {
   "cell_type": "code",
   "execution_count": 0,
   "metadata": {
    "application/vnd.databricks.v1+cell": {
     "cellMetadata": {
      "byteLimit": 2048000,
      "rowLimit": 10000
     },
     "inputWidgets": {},
     "nuid": "aef69302-02d4-4d52-a426-5034fd34039e",
     "showTitle": false,
     "title": ""
    }
   },
   "outputs": [
    {
     "output_type": "display_data",
     "data": {
      "text/html": [
       "<style scoped>\n",
       "  .table-result-container {\n",
       "    max-height: 300px;\n",
       "    overflow: auto;\n",
       "  }\n",
       "  table, th, td {\n",
       "    border: 1px solid black;\n",
       "    border-collapse: collapse;\n",
       "  }\n",
       "  th, td {\n",
       "    padding: 5px;\n",
       "  }\n",
       "  th {\n",
       "    text-align: left;\n",
       "  }\n",
       "</style><div class='table-result-container'><table class='table-result'><thead style='background-color: white'><tr><th>CRASH DATETIME</th><th>CRASH DATE</th><th>CRASH TIME</th><th>BOROUGH</th><th>ZIP CODE</th><th>LATITUDE</th><th>LONGITUDE</th><th>LOCATION</th><th>NUMBER OF PERSONS INJURED</th><th>NUMBER OF PERSONS KILLED</th><th>NUMBER OF PEDESTRIANS INJURED</th><th>NUMBER OF PEDESTRIANS KILLED</th><th>NUMBER OF CYCLIST INJURED</th><th>NUMBER OF CYCLIST KILLED</th><th>NUMBER OF MOTORIST INJURED</th><th>NUMBER OF MOTORIST KILLED</th><th>CONTRIBUTING FACTOR VEHICLE 1</th><th>CONTRIBUTING FACTOR VEHICLE 2</th><th>COLLISION_ID</th><th>VEHICLE TYPE CODE 1</th><th>VEHICLE TYPE CODE 2</th><th>YEAR</th><th>MONTH</th><th>DAY OF MONTH</th><th>DAY OF WEEK</th><th>IS WEEKEND</th></tr></thead><tbody><tr><td>2021-09-11 09:35</td><td>2021-09-11</td><td>9:35</td><td>BROOKLYN</td><td>11208</td><td>40.667202</td><td>-73.8665</td><td>(40.667202, -73.8665)</td><td>0</td><td>0</td><td>0</td><td>0</td><td>0</td><td>0</td><td>0</td><td>0</td><td>Unspecified</td><td>Unspecified</td><td>4456314</td><td>Sedan</td><td>Unspecified</td><td>2021</td><td>09</td><td>11</td><td>Saturday</td><td>true</td></tr><tr><td>2021-12-14 08:13</td><td>2021-12-14</td><td>8:13</td><td>BROOKLYN</td><td>11233</td><td>40.683304</td><td>-73.917274</td><td>(40.683304, -73.917274)</td><td>0</td><td>0</td><td>0</td><td>0</td><td>0</td><td>0</td><td>0</td><td>0</td><td>Unspecified</td><td>Unspecified</td><td>4486609</td><td>Unspecified</td><td>Unspecified</td><td>2021</td><td>12</td><td>14</td><td>Tuesday</td><td>false</td></tr><tr><td>2021-12-14 17:05</td><td>2021-12-14</td><td>17:05</td><td>null</td><td>null</td><td>40.709183</td><td>-73.956825</td><td>(40.709183, -73.956825)</td><td>0</td><td>0</td><td>0</td><td>0</td><td>0</td><td>0</td><td>0</td><td>0</td><td>Passing Too Closely</td><td>Unspecified</td><td>4486555</td><td>Sedan</td><td>Tractor Truck Diesel</td><td>2021</td><td>12</td><td>14</td><td>Tuesday</td><td>false</td></tr><tr><td>2021-12-14 08:17</td><td>2021-12-14</td><td>8:17</td><td>BRONX</td><td>10475</td><td>40.86816</td><td>-73.83148</td><td>(40.86816, -73.83148)</td><td>2</td><td>0</td><td>0</td><td>0</td><td>0</td><td>0</td><td>2</td><td>0</td><td>Unspecified</td><td>Unspecified</td><td>4486660</td><td>Sedan</td><td>Sedan</td><td>2021</td><td>12</td><td>14</td><td>Tuesday</td><td>false</td></tr><tr><td>2021-12-14 21:10</td><td>2021-12-14</td><td>21:10</td><td>BROOKLYN</td><td>11207</td><td>40.67172</td><td>-73.8971</td><td>(40.67172, -73.8971)</td><td>0</td><td>0</td><td>0</td><td>0</td><td>0</td><td>0</td><td>0</td><td>0</td><td>Driver Inexperience</td><td>Unspecified</td><td>4487074</td><td>Sedan</td><td>Unspecified</td><td>2021</td><td>12</td><td>14</td><td>Tuesday</td><td>false</td></tr></tbody></table></div>"
      ]
     },
     "metadata": {
      "application/vnd.databricks.v1+output": {
       "addedWidgets": {},
       "aggData": [],
       "aggError": "",
       "aggOverflow": false,
       "aggSchema": [],
       "aggSeriesLimitReached": false,
       "aggType": "",
       "arguments": {},
       "columnCustomDisplayInfos": {},
       "data": [
        [
         "2021-09-11 09:35",
         "2021-09-11",
         "9:35",
         "BROOKLYN",
         "11208",
         "40.667202",
         "-73.8665",
         "(40.667202, -73.8665)",
         0,
         0,
         0,
         0,
         0,
         0,
         0,
         0,
         "Unspecified",
         "Unspecified",
         "4456314",
         "Sedan",
         "Unspecified",
         "2021",
         "09",
         11,
         "Saturday",
         true
        ],
        [
         "2021-12-14 08:13",
         "2021-12-14",
         "8:13",
         "BROOKLYN",
         "11233",
         "40.683304",
         "-73.917274",
         "(40.683304, -73.917274)",
         0,
         0,
         0,
         0,
         0,
         0,
         0,
         0,
         "Unspecified",
         "Unspecified",
         "4486609",
         "Unspecified",
         "Unspecified",
         "2021",
         "12",
         14,
         "Tuesday",
         false
        ],
        [
         "2021-12-14 17:05",
         "2021-12-14",
         "17:05",
         null,
         null,
         "40.709183",
         "-73.956825",
         "(40.709183, -73.956825)",
         0,
         0,
         0,
         0,
         0,
         0,
         0,
         0,
         "Passing Too Closely",
         "Unspecified",
         "4486555",
         "Sedan",
         "Tractor Truck Diesel",
         "2021",
         "12",
         14,
         "Tuesday",
         false
        ],
        [
         "2021-12-14 08:17",
         "2021-12-14",
         "8:17",
         "BRONX",
         "10475",
         "40.86816",
         "-73.83148",
         "(40.86816, -73.83148)",
         2,
         0,
         0,
         0,
         0,
         0,
         2,
         0,
         "Unspecified",
         "Unspecified",
         "4486660",
         "Sedan",
         "Sedan",
         "2021",
         "12",
         14,
         "Tuesday",
         false
        ],
        [
         "2021-12-14 21:10",
         "2021-12-14",
         "21:10",
         "BROOKLYN",
         "11207",
         "40.67172",
         "-73.8971",
         "(40.67172, -73.8971)",
         0,
         0,
         0,
         0,
         0,
         0,
         0,
         0,
         "Driver Inexperience",
         "Unspecified",
         "4487074",
         "Sedan",
         "Unspecified",
         "2021",
         "12",
         14,
         "Tuesday",
         false
        ]
       ],
       "datasetInfos": [],
       "dbfsResultPath": null,
       "isJsonSchema": true,
       "metadata": {},
       "overflow": false,
       "plotOptions": {
        "customPlotOptions": {},
        "displayType": "table",
        "pivotAggregation": null,
        "pivotColumns": null,
        "xColumns": null,
        "yColumns": null
       },
       "removedWidgets": [],
       "schema": [
        {
         "metadata": "{}",
         "name": "CRASH DATETIME",
         "type": "\"string\""
        },
        {
         "metadata": "{}",
         "name": "CRASH DATE",
         "type": "\"date\""
        },
        {
         "metadata": "{}",
         "name": "CRASH TIME",
         "type": "\"string\""
        },
        {
         "metadata": "{}",
         "name": "BOROUGH",
         "type": "\"string\""
        },
        {
         "metadata": "{}",
         "name": "ZIP CODE",
         "type": "\"string\""
        },
        {
         "metadata": "{}",
         "name": "LATITUDE",
         "type": "\"string\""
        },
        {
         "metadata": "{}",
         "name": "LONGITUDE",
         "type": "\"string\""
        },
        {
         "metadata": "{}",
         "name": "LOCATION",
         "type": "\"string\""
        },
        {
         "metadata": "{}",
         "name": "NUMBER OF PERSONS INJURED",
         "type": "\"integer\""
        },
        {
         "metadata": "{}",
         "name": "NUMBER OF PERSONS KILLED",
         "type": "\"integer\""
        },
        {
         "metadata": "{}",
         "name": "NUMBER OF PEDESTRIANS INJURED",
         "type": "\"integer\""
        },
        {
         "metadata": "{}",
         "name": "NUMBER OF PEDESTRIANS KILLED",
         "type": "\"integer\""
        },
        {
         "metadata": "{}",
         "name": "NUMBER OF CYCLIST INJURED",
         "type": "\"integer\""
        },
        {
         "metadata": "{}",
         "name": "NUMBER OF CYCLIST KILLED",
         "type": "\"integer\""
        },
        {
         "metadata": "{}",
         "name": "NUMBER OF MOTORIST INJURED",
         "type": "\"integer\""
        },
        {
         "metadata": "{}",
         "name": "NUMBER OF MOTORIST KILLED",
         "type": "\"integer\""
        },
        {
         "metadata": "{}",
         "name": "CONTRIBUTING FACTOR VEHICLE 1",
         "type": "\"string\""
        },
        {
         "metadata": "{}",
         "name": "CONTRIBUTING FACTOR VEHICLE 2",
         "type": "\"string\""
        },
        {
         "metadata": "{}",
         "name": "COLLISION_ID",
         "type": "\"string\""
        },
        {
         "metadata": "{}",
         "name": "VEHICLE TYPE CODE 1",
         "type": "\"string\""
        },
        {
         "metadata": "{}",
         "name": "VEHICLE TYPE CODE 2",
         "type": "\"string\""
        },
        {
         "metadata": "{}",
         "name": "YEAR",
         "type": "\"string\""
        },
        {
         "metadata": "{}",
         "name": "MONTH",
         "type": "\"string\""
        },
        {
         "metadata": "{}",
         "name": "DAY OF MONTH",
         "type": "\"integer\""
        },
        {
         "metadata": "{}",
         "name": "DAY OF WEEK",
         "type": "\"string\""
        },
        {
         "metadata": "{}",
         "name": "IS WEEKEND",
         "type": "\"boolean\""
        }
       ],
       "type": "table"
      }
     },
     "output_type": "display_data"
    }
   ],
   "source": [
    "display(redux_acc_df2.limit(5))"
   ]
  },
  {
   "cell_type": "code",
   "execution_count": 0,
   "metadata": {
    "application/vnd.databricks.v1+cell": {
     "cellMetadata": {
      "byteLimit": 2048000,
      "rowLimit": 10000
     },
     "inputWidgets": {},
     "nuid": "82307c78-2dc3-41f8-8dc5-d6853c341c55",
     "showTitle": false,
     "title": ""
    }
   },
   "outputs": [
    {
     "output_type": "stream",
     "name": "stdout",
     "output_type": "stream",
     "text": [
      "root\n |-- CRASH DATETIME: string (nullable = true)\n |-- CRASH DATE: date (nullable = true)\n |-- CRASH TIME: string (nullable = true)\n |-- BOROUGH: string (nullable = true)\n |-- ZIP CODE: string (nullable = true)\n |-- LATITUDE: string (nullable = true)\n |-- LONGITUDE: string (nullable = true)\n |-- LOCATION: string (nullable = true)\n |-- NUMBER OF PERSONS INJURED: integer (nullable = true)\n |-- NUMBER OF PERSONS KILLED: integer (nullable = true)\n |-- NUMBER OF PEDESTRIANS INJURED: integer (nullable = true)\n |-- NUMBER OF PEDESTRIANS KILLED: integer (nullable = true)\n |-- NUMBER OF CYCLIST INJURED: integer (nullable = true)\n |-- NUMBER OF CYCLIST KILLED: integer (nullable = true)\n |-- NUMBER OF MOTORIST INJURED: integer (nullable = true)\n |-- NUMBER OF MOTORIST KILLED: integer (nullable = true)\n |-- CONTRIBUTING FACTOR VEHICLE 1: string (nullable = false)\n |-- CONTRIBUTING FACTOR VEHICLE 2: string (nullable = false)\n |-- COLLISION_ID: string (nullable = true)\n |-- VEHICLE TYPE CODE 1: string (nullable = false)\n |-- VEHICLE TYPE CODE 2: string (nullable = false)\n |-- YEAR: string (nullable = true)\n |-- MONTH: string (nullable = true)\n |-- DAY OF MONTH: integer (nullable = true)\n |-- DAY OF WEEK: string (nullable = true)\n |-- IS WEEKEND: boolean (nullable = true)\n\n"
     ]
    }
   ],
   "source": [
    "redux_acc_df2.printSchema()"
   ]
  },
  {
   "cell_type": "markdown",
   "metadata": {
    "application/vnd.databricks.v1+cell": {
     "cellMetadata": {
      "byteLimit": 2048000,
      "rowLimit": 10000
     },
     "inputWidgets": {},
     "nuid": "ace67e32-1543-407e-b2e2-b7a346da2556",
     "showTitle": false,
     "title": ""
    }
   },
   "source": [
    "#### Check the missing data"
   ]
  },
  {
   "cell_type": "code",
   "execution_count": 0,
   "metadata": {
    "application/vnd.databricks.v1+cell": {
     "cellMetadata": {
      "byteLimit": 2048000,
      "rowLimit": 10000
     },
     "inputWidgets": {},
     "nuid": "69171924-edd6-499d-9f09-1fdef5a82cbe",
     "showTitle": false,
     "title": ""
    }
   },
   "outputs": [],
   "source": [
    "missing_data = redux_acc_df2.select([F.sum(F.when(F.col(c).isNull(), 1).otherwise(0)).alias(c) for c in redux_acc_df.columns])"
   ]
  },
  {
   "cell_type": "markdown",
   "metadata": {
    "application/vnd.databricks.v1+cell": {
     "cellMetadata": {
      "byteLimit": 2048000,
      "rowLimit": 10000
     },
     "inputWidgets": {},
     "nuid": "bbd26b9c-fc3c-4ec0-b886-cc2f02fbe928",
     "showTitle": false,
     "title": ""
    }
   },
   "source": [
    "### Fill NULL Borough Data with GeoPandas"
   ]
  },
  {
   "cell_type": "markdown",
   "metadata": {
    "application/vnd.databricks.v1+cell": {
     "cellMetadata": {
      "byteLimit": 2048000,
      "rowLimit": 10000
     },
     "inputWidgets": {},
     "nuid": "c5363c53-d8aa-40d0-b006-a0440c394cdc",
     "showTitle": false,
     "title": ""
    }
   },
   "source": [
    "#### Convert accident df to a pandas datframe for compatibility with geopandas"
   ]
  },
  {
   "cell_type": "code",
   "execution_count": 0,
   "metadata": {
    "application/vnd.databricks.v1+cell": {
     "cellMetadata": {
      "byteLimit": 2048000,
      "rowLimit": 10000
     },
     "inputWidgets": {},
     "nuid": "8128add5-a9bb-4d1c-9a4a-569b38b1bf00",
     "showTitle": false,
     "title": ""
    }
   },
   "outputs": [],
   "source": [
    "from shapely.geometry import Point\n",
    "pd_acc_df = redux_acc_df2.toPandas()"
   ]
  },
  {
   "cell_type": "code",
   "execution_count": 0,
   "metadata": {
    "application/vnd.databricks.v1+cell": {
     "cellMetadata": {
      "byteLimit": 2048000,
      "rowLimit": 10000
     },
     "inputWidgets": {},
     "nuid": "3833ee6d-58f1-4295-8b30-7e7da796e6de",
     "showTitle": false,
     "title": ""
    }
   },
   "outputs": [
    {
     "output_type": "stream",
     "name": "stdout",
     "output_type": "stream",
     "text": [
      "Out[144]: {'Brooklyn': <MULTIPOLYGON (((-73.863 40.584, -73.864 40.584, -73.864 40.584, -73.865 40....>,\n 'Staten Island': <MULTIPOLYGON (((-74.051 40.566, -74.05 40.566, -74.05 40.566, -74.05 40.566...>,\n 'Manhattan': <MULTIPOLYGON (((-74.011 40.684, -74.012 40.684, -74.012 40.684, -74.01 40.6...>,\n 'Bronx': <MULTIPOLYGON (((-73.897 40.796, -73.897 40.796, -73.897 40.796, -73.898 40....>,\n 'Queens': <MULTIPOLYGON (((-73.826 40.591, -73.826 40.59, -73.826 40.59, -73.826 40.59...>}"
     ]
    }
   ],
   "source": [
    "geom_dict = gdf.set_index('boro_name')['geometry'].to_dict()\n",
    "geom_dict"
   ]
  },
  {
   "cell_type": "markdown",
   "metadata": {
    "application/vnd.databricks.v1+cell": {
     "cellMetadata": {
      "byteLimit": 2048000,
      "rowLimit": 10000
     },
     "inputWidgets": {},
     "nuid": "7c24af04-d13a-4ec8-b258-55e60ab669d9",
     "showTitle": false,
     "title": ""
    }
   },
   "source": [
    "#### For each longitude and latitude of a row with a null Borough, use GeoPandas and the NYC Borough GEOjson to fill the nulls with the correct borough"
   ]
  },
  {
   "cell_type": "code",
   "execution_count": 0,
   "metadata": {
    "application/vnd.databricks.v1+cell": {
     "cellMetadata": {
      "byteLimit": 2048000,
      "rowLimit": 10000
     },
     "inputWidgets": {},
     "nuid": "9c33c6ab-d477-4055-a46b-14398eeb78d5",
     "showTitle": false,
     "title": ""
    }
   },
   "outputs": [],
   "source": [
    "# Modify the buffer for the geodata\n",
    "for key, value in geom_dict.items():\n",
    "    value = value.buffer(0.00001)\n",
    "    "
   ]
  },
  {
   "cell_type": "code",
   "execution_count": 0,
   "metadata": {
    "application/vnd.databricks.v1+cell": {
     "cellMetadata": {
      "byteLimit": 2048000,
      "rowLimit": 10000
     },
     "inputWidgets": {},
     "nuid": "b7f11feb-a9a9-4a1a-b2e6-aa8b36b20dab",
     "showTitle": false,
     "title": ""
    }
   },
   "outputs": [],
   "source": [
    "def get_boro(point):\n",
    "    for key, value in geom_dict.items():\n",
    "        if point.within(value):\n",
    "            return key\n",
    "        return 'No Borough'\n",
    "    \n",
    "pd_acc_df['BOROUGH'] = pd_acc_df.apply(\n",
    "    lambda x: get_boro(\n",
    "        Point(x['LONGITUDE'], x['LATITUDE'])\n",
    "        ) if pd.isna(x['BOROUGH']) else x['BOROUGH'], axis=1)\n"
   ]
  },
  {
   "cell_type": "code",
   "execution_count": 0,
   "metadata": {
    "application/vnd.databricks.v1+cell": {
     "cellMetadata": {
      "byteLimit": 2048000,
      "rowLimit": 10000
     },
     "inputWidgets": {},
     "nuid": "0e7dd701-3e41-47eb-ae0d-8919b47cf633",
     "showTitle": false,
     "title": ""
    }
   },
   "outputs": [],
   "source": [
    "# Turn spark dataframe to pandas dataframe\n",
    "new_acc_df=spark.createDataFrame(pd_acc_df)"
   ]
  },
  {
   "cell_type": "markdown",
   "metadata": {
    "application/vnd.databricks.v1+cell": {
     "cellMetadata": {
      "byteLimit": 2048000,
      "rowLimit": 10000
     },
     "inputWidgets": {},
     "nuid": "0b6d3662-ec9c-407c-9134-f2fd7c7cd54a",
     "showTitle": false,
     "title": ""
    }
   },
   "source": [
    "#### Check the missing Data"
   ]
  },
  {
   "cell_type": "code",
   "execution_count": 0,
   "metadata": {
    "application/vnd.databricks.v1+cell": {
     "cellMetadata": {
      "byteLimit": 2048000,
      "rowLimit": 10000
     },
     "inputWidgets": {},
     "nuid": "bc07acd5-1cd3-4962-9721-6afea771d8bf",
     "showTitle": false,
     "title": ""
    }
   },
   "outputs": [
    {
     "output_type": "display_data",
     "data": {
      "text/html": [
       "<style scoped>\n",
       "  .table-result-container {\n",
       "    max-height: 300px;\n",
       "    overflow: auto;\n",
       "  }\n",
       "  table, th, td {\n",
       "    border: 1px solid black;\n",
       "    border-collapse: collapse;\n",
       "  }\n",
       "  th, td {\n",
       "    padding: 5px;\n",
       "  }\n",
       "  th {\n",
       "    text-align: left;\n",
       "  }\n",
       "</style><div class='table-result-container'><table class='table-result'><thead style='background-color: white'><tr><th>CRASH DATETIME</th><th>CRASH DATE</th><th>CRASH TIME</th><th>BOROUGH</th><th>ZIP CODE</th><th>LATITUDE</th><th>LONGITUDE</th><th>LOCATION</th><th>NUMBER OF PERSONS INJURED</th><th>NUMBER OF PERSONS KILLED</th><th>NUMBER OF PEDESTRIANS INJURED</th><th>NUMBER OF PEDESTRIANS KILLED</th><th>NUMBER OF CYCLIST INJURED</th><th>NUMBER OF CYCLIST KILLED</th><th>NUMBER OF MOTORIST INJURED</th><th>NUMBER OF MOTORIST KILLED</th><th>CONTRIBUTING FACTOR VEHICLE 1</th><th>CONTRIBUTING FACTOR VEHICLE 2</th><th>COLLISION_ID</th><th>VEHICLE TYPE CODE 1</th><th>VEHICLE TYPE CODE 2</th><th>YEAR</th><th>MONTH</th><th>DAY OF MONTH</th><th>DAY OF WEEK</th><th>IS WEEKEND</th></tr></thead><tbody><tr><td>0</td><td>0</td><td>0</td><td>0</td><td>191228</td><td>0</td><td>0</td><td>0</td><td>1</td><td>0</td><td>0</td><td>0</td><td>0</td><td>0</td><td>0</td><td>0</td><td>0</td><td>0</td><td>0</td><td>0</td><td>0</td><td>0</td><td>0</td><td>0</td><td>0</td><td>0</td></tr></tbody></table></div>"
      ]
     },
     "metadata": {
      "application/vnd.databricks.v1+output": {
       "addedWidgets": {},
       "aggData": [],
       "aggError": "",
       "aggOverflow": false,
       "aggSchema": [],
       "aggSeriesLimitReached": false,
       "aggType": "",
       "arguments": {},
       "columnCustomDisplayInfos": {},
       "data": [
        [
         0,
         0,
         0,
         0,
         191228,
         0,
         0,
         0,
         1,
         0,
         0,
         0,
         0,
         0,
         0,
         0,
         0,
         0,
         0,
         0,
         0,
         0,
         0,
         0,
         0,
         0
        ]
       ],
       "datasetInfos": [],
       "dbfsResultPath": null,
       "isJsonSchema": true,
       "metadata": {},
       "overflow": false,
       "plotOptions": {
        "customPlotOptions": {},
        "displayType": "table",
        "pivotAggregation": null,
        "pivotColumns": null,
        "xColumns": null,
        "yColumns": null
       },
       "removedWidgets": [],
       "schema": [
        {
         "metadata": "{}",
         "name": "CRASH DATETIME",
         "type": "\"long\""
        },
        {
         "metadata": "{}",
         "name": "CRASH DATE",
         "type": "\"long\""
        },
        {
         "metadata": "{}",
         "name": "CRASH TIME",
         "type": "\"long\""
        },
        {
         "metadata": "{}",
         "name": "BOROUGH",
         "type": "\"long\""
        },
        {
         "metadata": "{}",
         "name": "ZIP CODE",
         "type": "\"long\""
        },
        {
         "metadata": "{}",
         "name": "LATITUDE",
         "type": "\"long\""
        },
        {
         "metadata": "{}",
         "name": "LONGITUDE",
         "type": "\"long\""
        },
        {
         "metadata": "{}",
         "name": "LOCATION",
         "type": "\"long\""
        },
        {
         "metadata": "{}",
         "name": "NUMBER OF PERSONS INJURED",
         "type": "\"long\""
        },
        {
         "metadata": "{}",
         "name": "NUMBER OF PERSONS KILLED",
         "type": "\"long\""
        },
        {
         "metadata": "{}",
         "name": "NUMBER OF PEDESTRIANS INJURED",
         "type": "\"long\""
        },
        {
         "metadata": "{}",
         "name": "NUMBER OF PEDESTRIANS KILLED",
         "type": "\"long\""
        },
        {
         "metadata": "{}",
         "name": "NUMBER OF CYCLIST INJURED",
         "type": "\"long\""
        },
        {
         "metadata": "{}",
         "name": "NUMBER OF CYCLIST KILLED",
         "type": "\"long\""
        },
        {
         "metadata": "{}",
         "name": "NUMBER OF MOTORIST INJURED",
         "type": "\"long\""
        },
        {
         "metadata": "{}",
         "name": "NUMBER OF MOTORIST KILLED",
         "type": "\"long\""
        },
        {
         "metadata": "{}",
         "name": "CONTRIBUTING FACTOR VEHICLE 1",
         "type": "\"long\""
        },
        {
         "metadata": "{}",
         "name": "CONTRIBUTING FACTOR VEHICLE 2",
         "type": "\"long\""
        },
        {
         "metadata": "{}",
         "name": "COLLISION_ID",
         "type": "\"long\""
        },
        {
         "metadata": "{}",
         "name": "VEHICLE TYPE CODE 1",
         "type": "\"long\""
        },
        {
         "metadata": "{}",
         "name": "VEHICLE TYPE CODE 2",
         "type": "\"long\""
        },
        {
         "metadata": "{}",
         "name": "YEAR",
         "type": "\"long\""
        },
        {
         "metadata": "{}",
         "name": "MONTH",
         "type": "\"long\""
        },
        {
         "metadata": "{}",
         "name": "DAY OF MONTH",
         "type": "\"long\""
        },
        {
         "metadata": "{}",
         "name": "DAY OF WEEK",
         "type": "\"long\""
        },
        {
         "metadata": "{}",
         "name": "IS WEEKEND",
         "type": "\"long\""
        }
       ],
       "type": "table"
      }
     },
     "output_type": "display_data"
    }
   ],
   "source": [
    "missing_data = new_acc_df.select([F.sum(F.when(F.col(c).isNull(), 1).otherwise(0)).alias(c) for c in new_acc_df.columns])\n",
    "display(missing_data)"
   ]
  },
  {
   "cell_type": "code",
   "execution_count": 0,
   "metadata": {
    "application/vnd.databricks.v1+cell": {
     "cellMetadata": {
      "byteLimit": 2048000,
      "rowLimit": 10000
     },
     "inputWidgets": {},
     "nuid": "641c9ee2-273a-44c3-8ec4-dc935235cf22",
     "showTitle": false,
     "title": ""
    }
   },
   "outputs": [],
   "source": [
    "#new_acc_df = new_acc_df.filter()"
   ]
  },
  {
   "cell_type": "markdown",
   "metadata": {
    "application/vnd.databricks.v1+cell": {
     "cellMetadata": {
      "byteLimit": 2048000,
      "rowLimit": 10000
     },
     "inputWidgets": {},
     "nuid": "e1382ad7-bf31-4f01-af62-a41ffe1f8761",
     "showTitle": false,
     "title": ""
    }
   },
   "source": [
    "### Further Remove Irrelevant Columns "
   ]
  },
  {
   "cell_type": "code",
   "execution_count": 0,
   "metadata": {
    "application/vnd.databricks.v1+cell": {
     "cellMetadata": {
      "byteLimit": 2048000,
      "rowLimit": 10000
     },
     "inputWidgets": {},
     "nuid": "be4e451b-65d1-426c-a6c7-99f3bf55b138",
     "showTitle": false,
     "title": ""
    }
   },
   "outputs": [],
   "source": [
    "#new_acc_df = new_acc_df.filter((F.col('BOROUGH') != 'No Borough')).select(*new_acc_df.columns[0:4],*new_acc_df.columns[5:])\n",
    "new_acc_df = new_acc_df.select(*new_acc_df.columns[0:4],*new_acc_df.columns[5:])"
   ]
  },
  {
   "cell_type": "markdown",
   "metadata": {
    "application/vnd.databricks.v1+cell": {
     "cellMetadata": {
      "byteLimit": 2048000,
      "rowLimit": 10000
     },
     "inputWidgets": {},
     "nuid": "f2bb5d88-6773-41e2-830c-0b871e583d46",
     "showTitle": false,
     "title": ""
    }
   },
   "source": [
    "### Fill Null Vehicle Type Code with Unspecified"
   ]
  },
  {
   "cell_type": "code",
   "execution_count": 0,
   "metadata": {
    "application/vnd.databricks.v1+cell": {
     "cellMetadata": {
      "byteLimit": 2048000,
      "rowLimit": 10000
     },
     "inputWidgets": {},
     "nuid": "c5ba50a8-fa31-4966-aa65-13122df00b4d",
     "showTitle": false,
     "title": ""
    }
   },
   "outputs": [],
   "source": [
    "new_acc_df = new_acc_df.fillna('Unspecified', subset=['VEHICLE TYPE CODE 1'])\n",
    "new_acc_df = new_acc_df.fillna('Unspecified', subset = ['VEHICLE TYPE CODE 2'])\n"
   ]
  },
  {
   "cell_type": "code",
   "execution_count": 0,
   "metadata": {
    "application/vnd.databricks.v1+cell": {
     "cellMetadata": {
      "byteLimit": 2048000,
      "rowLimit": 10000
     },
     "inputWidgets": {},
     "nuid": "d9425b92-a230-499b-a87a-38fde8e0fb66",
     "showTitle": false,
     "title": ""
    }
   },
   "outputs": [
    {
     "output_type": "display_data",
     "data": {
      "text/html": [
       "<style scoped>\n",
       "  .table-result-container {\n",
       "    max-height: 300px;\n",
       "    overflow: auto;\n",
       "  }\n",
       "  table, th, td {\n",
       "    border: 1px solid black;\n",
       "    border-collapse: collapse;\n",
       "  }\n",
       "  th, td {\n",
       "    padding: 5px;\n",
       "  }\n",
       "  th {\n",
       "    text-align: left;\n",
       "  }\n",
       "</style><div class='table-result-container'><table class='table-result'><thead style='background-color: white'><tr><th>CRASH DATETIME</th><th>CRASH DATE</th><th>CRASH TIME</th><th>BOROUGH</th><th>LATITUDE</th><th>LONGITUDE</th><th>LOCATION</th><th>NUMBER OF PERSONS INJURED</th><th>NUMBER OF PERSONS KILLED</th><th>NUMBER OF PEDESTRIANS INJURED</th><th>NUMBER OF PEDESTRIANS KILLED</th><th>NUMBER OF CYCLIST INJURED</th><th>NUMBER OF CYCLIST KILLED</th><th>NUMBER OF MOTORIST INJURED</th><th>NUMBER OF MOTORIST KILLED</th><th>CONTRIBUTING FACTOR VEHICLE 1</th><th>CONTRIBUTING FACTOR VEHICLE 2</th><th>COLLISION_ID</th><th>VEHICLE TYPE CODE 1</th><th>VEHICLE TYPE CODE 2</th><th>YEAR</th><th>MONTH</th><th>DAY OF MONTH</th><th>DAY OF WEEK</th><th>IS WEEKEND</th></tr></thead><tbody><tr><td>0</td><td>0</td><td>0</td><td>0</td><td>0</td><td>0</td><td>0</td><td>1</td><td>0</td><td>0</td><td>0</td><td>0</td><td>0</td><td>0</td><td>0</td><td>0</td><td>0</td><td>0</td><td>0</td><td>0</td><td>0</td><td>0</td><td>0</td><td>0</td><td>0</td></tr></tbody></table></div>"
      ]
     },
     "metadata": {
      "application/vnd.databricks.v1+output": {
       "addedWidgets": {},
       "aggData": [],
       "aggError": "",
       "aggOverflow": false,
       "aggSchema": [],
       "aggSeriesLimitReached": false,
       "aggType": "",
       "arguments": {},
       "columnCustomDisplayInfos": {},
       "data": [
        [
         0,
         0,
         0,
         0,
         0,
         0,
         0,
         1,
         0,
         0,
         0,
         0,
         0,
         0,
         0,
         0,
         0,
         0,
         0,
         0,
         0,
         0,
         0,
         0,
         0
        ]
       ],
       "datasetInfos": [],
       "dbfsResultPath": null,
       "isJsonSchema": true,
       "metadata": {},
       "overflow": false,
       "plotOptions": {
        "customPlotOptions": {},
        "displayType": "table",
        "pivotAggregation": null,
        "pivotColumns": null,
        "xColumns": null,
        "yColumns": null
       },
       "removedWidgets": [],
       "schema": [
        {
         "metadata": "{}",
         "name": "CRASH DATETIME",
         "type": "\"long\""
        },
        {
         "metadata": "{}",
         "name": "CRASH DATE",
         "type": "\"long\""
        },
        {
         "metadata": "{}",
         "name": "CRASH TIME",
         "type": "\"long\""
        },
        {
         "metadata": "{}",
         "name": "BOROUGH",
         "type": "\"long\""
        },
        {
         "metadata": "{}",
         "name": "LATITUDE",
         "type": "\"long\""
        },
        {
         "metadata": "{}",
         "name": "LONGITUDE",
         "type": "\"long\""
        },
        {
         "metadata": "{}",
         "name": "LOCATION",
         "type": "\"long\""
        },
        {
         "metadata": "{}",
         "name": "NUMBER OF PERSONS INJURED",
         "type": "\"long\""
        },
        {
         "metadata": "{}",
         "name": "NUMBER OF PERSONS KILLED",
         "type": "\"long\""
        },
        {
         "metadata": "{}",
         "name": "NUMBER OF PEDESTRIANS INJURED",
         "type": "\"long\""
        },
        {
         "metadata": "{}",
         "name": "NUMBER OF PEDESTRIANS KILLED",
         "type": "\"long\""
        },
        {
         "metadata": "{}",
         "name": "NUMBER OF CYCLIST INJURED",
         "type": "\"long\""
        },
        {
         "metadata": "{}",
         "name": "NUMBER OF CYCLIST KILLED",
         "type": "\"long\""
        },
        {
         "metadata": "{}",
         "name": "NUMBER OF MOTORIST INJURED",
         "type": "\"long\""
        },
        {
         "metadata": "{}",
         "name": "NUMBER OF MOTORIST KILLED",
         "type": "\"long\""
        },
        {
         "metadata": "{}",
         "name": "CONTRIBUTING FACTOR VEHICLE 1",
         "type": "\"long\""
        },
        {
         "metadata": "{}",
         "name": "CONTRIBUTING FACTOR VEHICLE 2",
         "type": "\"long\""
        },
        {
         "metadata": "{}",
         "name": "COLLISION_ID",
         "type": "\"long\""
        },
        {
         "metadata": "{}",
         "name": "VEHICLE TYPE CODE 1",
         "type": "\"long\""
        },
        {
         "metadata": "{}",
         "name": "VEHICLE TYPE CODE 2",
         "type": "\"long\""
        },
        {
         "metadata": "{}",
         "name": "YEAR",
         "type": "\"long\""
        },
        {
         "metadata": "{}",
         "name": "MONTH",
         "type": "\"long\""
        },
        {
         "metadata": "{}",
         "name": "DAY OF MONTH",
         "type": "\"long\""
        },
        {
         "metadata": "{}",
         "name": "DAY OF WEEK",
         "type": "\"long\""
        },
        {
         "metadata": "{}",
         "name": "IS WEEKEND",
         "type": "\"long\""
        }
       ],
       "type": "table"
      }
     },
     "output_type": "display_data"
    }
   ],
   "source": [
    "missing_data = new_acc_df.select([F.sum(F.when(F.col(c).isNull(), 1).otherwise(0)).alias(c) for c in new_acc_df.columns])\n",
    "display(missing_data)"
   ]
  },
  {
   "cell_type": "code",
   "execution_count": 0,
   "metadata": {
    "application/vnd.databricks.v1+cell": {
     "cellMetadata": {
      "byteLimit": 2048000,
      "rowLimit": 10000
     },
     "inputWidgets": {},
     "nuid": "faf9acf1-571f-45c6-9ef5-0d8e4ea26591",
     "showTitle": false,
     "title": ""
    }
   },
   "outputs": [],
   "source": [
    "final_df = new_acc_df.withColumn('BOROUGH', F.initcap(F.col('BOROUGH')))"
   ]
  },
  {
   "cell_type": "code",
   "execution_count": 0,
   "metadata": {
    "application/vnd.databricks.v1+cell": {
     "cellMetadata": {
      "byteLimit": 2048000,
      "rowLimit": 10000
     },
     "inputWidgets": {},
     "nuid": "eb2b42c2-ef75-47a7-b276-da402de45fe2",
     "showTitle": false,
     "title": ""
    }
   },
   "outputs": [
    {
     "output_type": "display_data",
     "data": {
      "text/html": [
       "<style scoped>\n",
       "  .table-result-container {\n",
       "    max-height: 300px;\n",
       "    overflow: auto;\n",
       "  }\n",
       "  table, th, td {\n",
       "    border: 1px solid black;\n",
       "    border-collapse: collapse;\n",
       "  }\n",
       "  th, td {\n",
       "    padding: 5px;\n",
       "  }\n",
       "  th {\n",
       "    text-align: left;\n",
       "  }\n",
       "</style><div class='table-result-container'><table class='table-result'><thead style='background-color: white'><tr><th>CRASH DATETIME</th><th>CRASH DATE</th><th>CRASH TIME</th><th>BOROUGH</th><th>LATITUDE</th><th>LONGITUDE</th><th>LOCATION</th><th>NUMBER OF PERSONS INJURED</th><th>NUMBER OF PERSONS KILLED</th><th>NUMBER OF PEDESTRIANS INJURED</th><th>NUMBER OF PEDESTRIANS KILLED</th><th>NUMBER OF CYCLIST INJURED</th><th>NUMBER OF CYCLIST KILLED</th><th>NUMBER OF MOTORIST INJURED</th><th>NUMBER OF MOTORIST KILLED</th><th>CONTRIBUTING FACTOR VEHICLE 1</th><th>CONTRIBUTING FACTOR VEHICLE 2</th><th>COLLISION_ID</th><th>VEHICLE TYPE CODE 1</th><th>VEHICLE TYPE CODE 2</th><th>YEAR</th><th>MONTH</th><th>DAY OF MONTH</th><th>DAY OF WEEK</th><th>IS WEEKEND</th></tr></thead><tbody><tr><td>2021-09-11 09:35</td><td>2021-09-11</td><td>9:35</td><td>Brooklyn</td><td>40.667202</td><td>-73.8665</td><td>(40.667202, -73.8665)</td><td>0.0</td><td>0</td><td>0</td><td>0</td><td>0</td><td>0</td><td>0</td><td>0</td><td>Unspecified</td><td>Unspecified</td><td>4456314</td><td>Sedan</td><td>Unspecified</td><td>2021</td><td>09</td><td>11</td><td>Saturday</td><td>true</td></tr><tr><td>2021-12-14 08:13</td><td>2021-12-14</td><td>8:13</td><td>Brooklyn</td><td>40.683304</td><td>-73.917274</td><td>(40.683304, -73.917274)</td><td>0.0</td><td>0</td><td>0</td><td>0</td><td>0</td><td>0</td><td>0</td><td>0</td><td>Unspecified</td><td>Unspecified</td><td>4486609</td><td>Unspecified</td><td>Unspecified</td><td>2021</td><td>12</td><td>14</td><td>Tuesday</td><td>false</td></tr><tr><td>2021-12-14 17:05</td><td>2021-12-14</td><td>17:05</td><td>Brooklyn</td><td>40.709183</td><td>-73.956825</td><td>(40.709183, -73.956825)</td><td>0.0</td><td>0</td><td>0</td><td>0</td><td>0</td><td>0</td><td>0</td><td>0</td><td>Passing Too Closely</td><td>Unspecified</td><td>4486555</td><td>Sedan</td><td>Tractor Truck Diesel</td><td>2021</td><td>12</td><td>14</td><td>Tuesday</td><td>false</td></tr><tr><td>2021-12-14 08:17</td><td>2021-12-14</td><td>8:17</td><td>Bronx</td><td>40.86816</td><td>-73.83148</td><td>(40.86816, -73.83148)</td><td>2.0</td><td>0</td><td>0</td><td>0</td><td>0</td><td>0</td><td>2</td><td>0</td><td>Unspecified</td><td>Unspecified</td><td>4486660</td><td>Sedan</td><td>Sedan</td><td>2021</td><td>12</td><td>14</td><td>Tuesday</td><td>false</td></tr><tr><td>2021-12-14 21:10</td><td>2021-12-14</td><td>21:10</td><td>Brooklyn</td><td>40.67172</td><td>-73.8971</td><td>(40.67172, -73.8971)</td><td>0.0</td><td>0</td><td>0</td><td>0</td><td>0</td><td>0</td><td>0</td><td>0</td><td>Driver Inexperience</td><td>Unspecified</td><td>4487074</td><td>Sedan</td><td>Unspecified</td><td>2021</td><td>12</td><td>14</td><td>Tuesday</td><td>false</td></tr></tbody></table></div>"
      ]
     },
     "metadata": {
      "application/vnd.databricks.v1+output": {
       "addedWidgets": {},
       "aggData": [],
       "aggError": "",
       "aggOverflow": false,
       "aggSchema": [],
       "aggSeriesLimitReached": false,
       "aggType": "",
       "arguments": {},
       "columnCustomDisplayInfos": {},
       "data": [
        [
         "2021-09-11 09:35",
         "2021-09-11",
         "9:35",
         "Brooklyn",
         "40.667202",
         "-73.8665",
         "(40.667202, -73.8665)",
         0.0,
         0,
         0,
         0,
         0,
         0,
         0,
         0,
         "Unspecified",
         "Unspecified",
         "4456314",
         "Sedan",
         "Unspecified",
         "2021",
         "09",
         11,
         "Saturday",
         true
        ],
        [
         "2021-12-14 08:13",
         "2021-12-14",
         "8:13",
         "Brooklyn",
         "40.683304",
         "-73.917274",
         "(40.683304, -73.917274)",
         0.0,
         0,
         0,
         0,
         0,
         0,
         0,
         0,
         "Unspecified",
         "Unspecified",
         "4486609",
         "Unspecified",
         "Unspecified",
         "2021",
         "12",
         14,
         "Tuesday",
         false
        ],
        [
         "2021-12-14 17:05",
         "2021-12-14",
         "17:05",
         "Brooklyn",
         "40.709183",
         "-73.956825",
         "(40.709183, -73.956825)",
         0.0,
         0,
         0,
         0,
         0,
         0,
         0,
         0,
         "Passing Too Closely",
         "Unspecified",
         "4486555",
         "Sedan",
         "Tractor Truck Diesel",
         "2021",
         "12",
         14,
         "Tuesday",
         false
        ],
        [
         "2021-12-14 08:17",
         "2021-12-14",
         "8:17",
         "Bronx",
         "40.86816",
         "-73.83148",
         "(40.86816, -73.83148)",
         2.0,
         0,
         0,
         0,
         0,
         0,
         2,
         0,
         "Unspecified",
         "Unspecified",
         "4486660",
         "Sedan",
         "Sedan",
         "2021",
         "12",
         14,
         "Tuesday",
         false
        ],
        [
         "2021-12-14 21:10",
         "2021-12-14",
         "21:10",
         "Brooklyn",
         "40.67172",
         "-73.8971",
         "(40.67172, -73.8971)",
         0.0,
         0,
         0,
         0,
         0,
         0,
         0,
         0,
         "Driver Inexperience",
         "Unspecified",
         "4487074",
         "Sedan",
         "Unspecified",
         "2021",
         "12",
         14,
         "Tuesday",
         false
        ]
       ],
       "datasetInfos": [],
       "dbfsResultPath": null,
       "isJsonSchema": true,
       "metadata": {},
       "overflow": false,
       "plotOptions": {
        "customPlotOptions": {},
        "displayType": "table",
        "pivotAggregation": null,
        "pivotColumns": null,
        "xColumns": null,
        "yColumns": null
       },
       "removedWidgets": [],
       "schema": [
        {
         "metadata": "{}",
         "name": "CRASH DATETIME",
         "type": "\"string\""
        },
        {
         "metadata": "{}",
         "name": "CRASH DATE",
         "type": "\"date\""
        },
        {
         "metadata": "{}",
         "name": "CRASH TIME",
         "type": "\"string\""
        },
        {
         "metadata": "{}",
         "name": "BOROUGH",
         "type": "\"string\""
        },
        {
         "metadata": "{}",
         "name": "LATITUDE",
         "type": "\"string\""
        },
        {
         "metadata": "{}",
         "name": "LONGITUDE",
         "type": "\"string\""
        },
        {
         "metadata": "{}",
         "name": "LOCATION",
         "type": "\"string\""
        },
        {
         "metadata": "{}",
         "name": "NUMBER OF PERSONS INJURED",
         "type": "\"double\""
        },
        {
         "metadata": "{}",
         "name": "NUMBER OF PERSONS KILLED",
         "type": "\"integer\""
        },
        {
         "metadata": "{}",
         "name": "NUMBER OF PEDESTRIANS INJURED",
         "type": "\"integer\""
        },
        {
         "metadata": "{}",
         "name": "NUMBER OF PEDESTRIANS KILLED",
         "type": "\"integer\""
        },
        {
         "metadata": "{}",
         "name": "NUMBER OF CYCLIST INJURED",
         "type": "\"integer\""
        },
        {
         "metadata": "{}",
         "name": "NUMBER OF CYCLIST KILLED",
         "type": "\"integer\""
        },
        {
         "metadata": "{}",
         "name": "NUMBER OF MOTORIST INJURED",
         "type": "\"integer\""
        },
        {
         "metadata": "{}",
         "name": "NUMBER OF MOTORIST KILLED",
         "type": "\"integer\""
        },
        {
         "metadata": "{}",
         "name": "CONTRIBUTING FACTOR VEHICLE 1",
         "type": "\"string\""
        },
        {
         "metadata": "{}",
         "name": "CONTRIBUTING FACTOR VEHICLE 2",
         "type": "\"string\""
        },
        {
         "metadata": "{}",
         "name": "COLLISION_ID",
         "type": "\"string\""
        },
        {
         "metadata": "{}",
         "name": "VEHICLE TYPE CODE 1",
         "type": "\"string\""
        },
        {
         "metadata": "{}",
         "name": "VEHICLE TYPE CODE 2",
         "type": "\"string\""
        },
        {
         "metadata": "{}",
         "name": "YEAR",
         "type": "\"string\""
        },
        {
         "metadata": "{}",
         "name": "MONTH",
         "type": "\"string\""
        },
        {
         "metadata": "{}",
         "name": "DAY OF MONTH",
         "type": "\"integer\""
        },
        {
         "metadata": "{}",
         "name": "DAY OF WEEK",
         "type": "\"string\""
        },
        {
         "metadata": "{}",
         "name": "IS WEEKEND",
         "type": "\"boolean\""
        }
       ],
       "type": "table"
      }
     },
     "output_type": "display_data"
    }
   ],
   "source": [
    "display(final_df.limit(5))"
   ]
  },
  {
   "cell_type": "markdown",
   "metadata": {
    "application/vnd.databricks.v1+cell": {
     "cellMetadata": {
      "byteLimit": 2048000,
      "rowLimit": 10000
     },
     "inputWidgets": {},
     "nuid": "ab0aaf68-5117-4b67-bd7a-f40b7497374a",
     "showTitle": false,
     "title": ""
    }
   },
   "source": [
    "## Load"
   ]
  },
  {
   "cell_type": "markdown",
   "metadata": {
    "application/vnd.databricks.v1+cell": {
     "cellMetadata": {
      "byteLimit": 2048000,
      "rowLimit": 10000
     },
     "inputWidgets": {},
     "nuid": "d95704b4-27df-46f9-a74d-f366f2a58aad",
     "showTitle": false,
     "title": ""
    }
   },
   "source": [
    "### Export as parquet to S3 conformed bucket and partition by Year and Month"
   ]
  },
  {
   "cell_type": "code",
   "execution_count": 0,
   "metadata": {
    "application/vnd.databricks.v1+cell": {
     "cellMetadata": {
      "byteLimit": 2048000,
      "rowLimit": 10000
     },
     "inputWidgets": {},
     "nuid": "614d108c-96d3-4d30-a060-102c6d36b419",
     "showTitle": false,
     "title": ""
    }
   },
   "outputs": [
    {
     "output_type": "display_data",
     "data": {
      "text/plain": [
       ""
      ]
     },
     "metadata": {
      "application/vnd.databricks.v1+output": {
       "arguments": {},
       "data": "",
       "errorSummary": "Command skipped",
       "errorTraceType": "ansi",
       "metadata": {},
       "type": "ipynbError"
      }
     },
     "output_type": "display_data"
    }
   ],
   "source": [
    "acc_dst_path = 's3a://capstone-techcatalyst-conformed/group4/accident_data/'\n",
    "new_acc_df.write.partitionBy('YEAR','MONTH').mode(\"overwrite\").format(\"parquet\").save(acc_dst_path)"
   ]
  },
  {
   "cell_type": "code",
   "execution_count": 0,
   "metadata": {
    "application/vnd.databricks.v1+cell": {
     "cellMetadata": {
      "byteLimit": 2048000,
      "rowLimit": 10000
     },
     "inputWidgets": {},
     "nuid": "e06c39c4-04a2-4e59-87aa-366dfe578044",
     "showTitle": false,
     "title": ""
    }
   },
   "outputs": [
    {
     "output_type": "display_data",
     "data": {
      "text/plain": [
       ""
      ]
     },
     "metadata": {
      "application/vnd.databricks.v1+output": {
       "arguments": {},
       "data": "",
       "errorSummary": "Command skipped",
       "errorTraceType": "ansi",
       "metadata": {},
       "type": "ipynbError"
      }
     },
     "output_type": "display_data"
    }
   ],
   "source": [
    "tz_dst_path = 's3a//capstone-techcatalyst-conformed/group4/taxi_zone_lookup/'\n",
    "zone_df.write.mode('overwrite').format('parquet').save(tz_dst_path)"
   ]
  },
  {
   "cell_type": "code",
   "execution_count": 0,
   "metadata": {
    "application/vnd.databricks.v1+cell": {
     "cellMetadata": {
      "byteLimit": 2048000,
      "rowLimit": 10000
     },
     "inputWidgets": {},
     "nuid": "0ede1a69-80c7-4a5e-9c83-6b26aebd2b0f",
     "showTitle": false,
     "title": ""
    }
   },
   "outputs": [],
   "source": []
  }
 ],
 "metadata": {
  "application/vnd.databricks.v1+notebook": {
   "dashboards": [],
   "environmentMetadata": null,
   "language": "python",
   "notebookMetadata": {
    "pythonIndentUnit": 4
   },
   "notebookName": "Accidents_Conformed",
   "widgets": {}
  }
 },
 "nbformat": 4,
 "nbformat_minor": 0
}
