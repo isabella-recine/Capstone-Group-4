{
 "cells": [
  {
   "cell_type": "code",
   "execution_count": 0,
   "metadata": {
    "application/vnd.databricks.v1+cell": {
     "cellMetadata": {
      "byteLimit": 2048000,
      "rowLimit": 10000
     },
     "inputWidgets": {},
     "nuid": "e223dc65-b451-4fd9-b68a-fa21d1bf7763",
     "showTitle": false,
     "title": ""
    }
   },
   "outputs": [],
   "source": [
    "from pyspark.sql import SparkSession\n",
    "from pyspark.sql.window import Window\n",
    "from pyspark.sql.functions import *"
   ]
  },
  {
   "cell_type": "code",
   "execution_count": 0,
   "metadata": {
    "application/vnd.databricks.v1+cell": {
     "cellMetadata": {
      "byteLimit": 2048000,
      "rowLimit": 10000
     },
     "inputWidgets": {},
     "nuid": "e8f0f763-1d5c-4149-8bcf-b2ec8fcb9f01",
     "showTitle": false,
     "title": ""
    }
   },
   "outputs": [],
   "source": [
    "# Load AWS Credentials\n",
    "spark.conf.set(\"fs.s3a.access.key\", \"\")\n",
    "spark.conf.set(\"fs.s3a.secret.key\", \"\")"
   ]
  },
  {
   "cell_type": "code",
   "execution_count": 0,
   "metadata": {
    "application/vnd.databricks.v1+cell": {
     "cellMetadata": {
      "byteLimit": 2048000,
      "rowLimit": 10000
     },
     "inputWidgets": {},
     "nuid": "9bc5b4ee-5f0d-495d-a566-0ee6965429f8",
     "showTitle": false,
     "title": ""
    }
   },
   "outputs": [],
   "source": [
    "# Read HVFHV DataFrames and drop duplicate rows\n",
    "HVFHV_df = spark.read.option(\"recursiveFileLookup\", \"true\").parquet(\"s3a://capstone-techcatalyst-conformed/group4/hvfhv_data/*\",multiLine=True, encoding=\"utf8\")"
   ]
  },
  {
   "cell_type": "code",
   "execution_count": 0,
   "metadata": {
    "application/vnd.databricks.v1+cell": {
     "cellMetadata": {
      "byteLimit": 2048000,
      "rowLimit": 10000
     },
     "inputWidgets": {},
     "nuid": "a4c46bba-5838-42c8-802d-a9c19eb98655",
     "showTitle": false,
     "title": ""
    }
   },
   "outputs": [],
   "source": [
    "# Calculate Trip Distance % of Total Trip Distance for the day.\n",
    "HVFHV_df = HVFHV_df.withColumn('trip_distance_percentage', col('trip_miles')/ sum('trip_miles').over(Window.partitionBy(to_date(\"Pickup_datetime\")))*100)\n",
    "\n",
    "# Calculate Trip Duration % of Total Time Spent Active for the day.\n",
    "HVFHV_df = HVFHV_df.withColumn('trip_duration_percentage', col('trip_time')/ sum('trip_time').over(Window.partitionBy(to_date(\"Pickup_datetime\")))*100)\n",
    "\n",
    "# Calculate the amount of time it takes to be picked up after requesting a ride\n",
    "HVFHV_df = HVFHV_df.withColumn('pickup_wait_time', (unix_timestamp('pickup_datetime') - unix_timestamp('request_datetime'))/60)"
   ]
  },
  {
   "cell_type": "code",
   "execution_count": 0,
   "metadata": {
    "application/vnd.databricks.v1+cell": {
     "cellMetadata": {
      "byteLimit": 2048000,
      "rowLimit": 10000
     },
     "inputWidgets": {},
     "nuid": "100d455b-e4e8-4942-933e-942e1c1191dd",
     "showTitle": false,
     "title": ""
    }
   },
   "outputs": [],
   "source": [
    "HVFHV_parquet_path = f\"s3a://capstone-techcatalyst-transformed/group4/hvfhv_data/\"\n",
    "\n",
    "HVFHV_df.write.partitionBy(\"year\", \"month\", \"day_of_month\").parquet(HVFHV_parquet_path)"
   ]
  }
 ],
 "metadata": {
  "application/vnd.databricks.v1+notebook": {
   "dashboards": [],
   "environmentMetadata": null,
   "language": "python",
   "notebookMetadata": {
    "pythonIndentUnit": 4
   },
   "notebookName": "HVFHV Transformed",
   "widgets": {}
  }
 },
 "nbformat": 4,
 "nbformat_minor": 0
}
