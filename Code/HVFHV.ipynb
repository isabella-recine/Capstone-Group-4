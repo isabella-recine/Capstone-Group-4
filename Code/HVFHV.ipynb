{
 "cells": [
  {
   "cell_type": "code",
   "execution_count": 0,
   "metadata": {
    "application/vnd.databricks.v1+cell": {
     "cellMetadata": {
      "byteLimit": 2048000,
      "rowLimit": 10000
     },
     "inputWidgets": {},
     "nuid": "2ee237e7-bb9e-4440-b048-ba682eecfd4a",
     "showTitle": false,
     "title": ""
    }
   },
   "outputs": [],
   "source": [
    "from pyspark.sql import SparkSession\n",
    "from pyspark.sql.functions import *"
   ]
  },
  {
   "cell_type": "code",
   "execution_count": 0,
   "metadata": {
    "application/vnd.databricks.v1+cell": {
     "cellMetadata": {
      "byteLimit": 2048000,
      "rowLimit": 10000
     },
     "inputWidgets": {},
     "nuid": "4c2cc3b3-7898-4140-aac7-1bbc8a3c6231",
     "showTitle": false,
     "title": ""
    }
   },
   "outputs": [],
   "source": [
    "# Load AWS Credentials\n",
    "spark.conf.set(\"fs.s3a.access.key\", \"\")\n",
    "spark.conf.set(\"fs.s3a.secret.key\", \"\")"
   ]
  },
  {
   "cell_type": "code",
   "execution_count": 0,
   "metadata": {
    "application/vnd.databricks.v1+cell": {
     "cellMetadata": {
      "byteLimit": 2048000,
      "rowLimit": 10000
     },
     "inputWidgets": {},
     "nuid": "be2192f2-a699-4045-b9a8-c73c9fba6d18",
     "showTitle": false,
     "title": ""
    }
   },
   "outputs": [],
   "source": [
    "# Read HVFHV DataFrames and drop duplicate rows\n",
    "HVFHV_df = spark.read.option(\"recursiveFileLookup\", \"true\").parquet(\"s3://capstone-techcatalyst-raw/hvfhv/*\",multiLine=True, encoding=\"utf8\").drop_duplicates()"
   ]
  },
  {
   "cell_type": "code",
   "execution_count": 0,
   "metadata": {
    "application/vnd.databricks.v1+cell": {
     "cellMetadata": {
      "byteLimit": 2048000,
      "rowLimit": 10000
     },
     "inputWidgets": {},
     "nuid": "b366067c-e1d7-4845-ad9a-4644f73f2e3e",
     "showTitle": false,
     "title": ""
    }
   },
   "outputs": [
    {
     "output_type": "stream",
     "name": "stdout",
     "output_type": "stream",
     "text": [
      "Out[5]: 100741442"
     ]
    }
   ],
   "source": [
    "HVFHV_df.count()"
   ]
  },
  {
   "cell_type": "code",
   "execution_count": 0,
   "metadata": {
    "application/vnd.databricks.v1+cell": {
     "cellMetadata": {
      "byteLimit": 2048000,
      "rowLimit": 10000
     },
     "inputWidgets": {},
     "nuid": "0cfbca20-132c-4bcf-96e1-26855d0b92b2",
     "showTitle": false,
     "title": ""
    }
   },
   "outputs": [],
   "source": [
    "# Create datetime column called \"date\" based on the pickup date\n",
    "HVFHV_df = HVFHV_df.withColumn(\"date\", HVFHV_df[\"pickup_datetime\"].cast(\"date\"))"
   ]
  },
  {
   "cell_type": "code",
   "execution_count": 0,
   "metadata": {
    "application/vnd.databricks.v1+cell": {
     "cellMetadata": {
      "byteLimit": 2048000,
      "rowLimit": 10000
     },
     "inputWidgets": {},
     "nuid": "d3897d8e-2013-4fa4-b8aa-a41e646a44ef",
     "showTitle": false,
     "title": ""
    }
   },
   "outputs": [],
   "source": [
    "# Add additional date feature columns based on the date column\n",
    "HVFHV_df = HVFHV_df.withColumn(\"year\", date_format('date', 'yyyy'))\n",
    "HVFHV_df = HVFHV_df.withColumn(\"month\", date_format('date', 'MM'))\n",
    "HVFHV_df = HVFHV_df.withColumn(\"day_of_month\", dayofmonth('date'))\n",
    "HVFHV_df = HVFHV_df.withColumn(\"day_of_week\", date_format('date', 'EEEE')) \n",
    "HVFHV_df = HVFHV_df.withColumn(\"is_weekend\", dayofweek(\"date\").isin([1,7]).cast(\"boolean\"))\n",
    "HVFHV_df = HVFHV_df.withColumn('trip_duration', (unix_timestamp('dropoff_datetime') - unix_timestamp('pickup_datetime'))/60)\n",
    "\n",
    "# Filter DataFrame to only include rows where the date is between January 2024 - May 2024\n",
    "HVFHV_df = HVFHV_df.filter(HVFHV_df[\"date\"].between(\"2024-01-01\", \"2024-05-31\"))  "
   ]
  },
  {
   "cell_type": "code",
   "execution_count": 0,
   "metadata": {
    "application/vnd.databricks.v1+cell": {
     "cellMetadata": {
      "byteLimit": 2048000,
      "rowLimit": 10000
     },
     "inputWidgets": {},
     "nuid": "0910a567-3eba-4a44-ad3a-d4107c5d2bf6",
     "showTitle": false,
     "title": ""
    }
   },
   "outputs": [
    {
     "output_type": "display_data",
     "data": {
      "text/html": [
       "<style scoped>\n",
       "  .table-result-container {\n",
       "    max-height: 300px;\n",
       "    overflow: auto;\n",
       "  }\n",
       "  table, th, td {\n",
       "    border: 1px solid black;\n",
       "    border-collapse: collapse;\n",
       "  }\n",
       "  th, td {\n",
       "    padding: 5px;\n",
       "  }\n",
       "  th {\n",
       "    text-align: left;\n",
       "  }\n",
       "</style><div class='table-result-container'><table class='table-result'><thead style='background-color: white'><tr><th>hvfhs_license_num</th><th>dispatching_base_num</th><th>originating_base_num</th><th>request_datetime</th><th>on_scene_datetime</th><th>pickup_datetime</th><th>dropoff_datetime</th><th>PULocationID</th><th>DOLocationID</th><th>trip_miles</th><th>trip_time</th><th>base_passenger_fare</th><th>tolls</th><th>bcf</th><th>sales_tax</th><th>congestion_surcharge</th><th>airport_fee</th><th>tips</th><th>driver_pay</th><th>shared_request_flag</th><th>shared_match_flag</th><th>access_a_ride_flag</th><th>wav_request_flag</th><th>wav_match_flag</th><th>date</th><th>year</th><th>month</th><th>day_of_month</th><th>day_of_week</th><th>is_weekend</th><th>trip_duration</th></tr></thead><tbody><tr><td>0</td><td>0</td><td>25957560</td><td>0</td><td>25957172</td><td>0</td><td>0</td><td>0</td><td>0</td><td>0</td><td>0</td><td>0</td><td>0</td><td>0</td><td>0</td><td>0</td><td>0</td><td>0</td><td>0</td><td>0</td><td>0</td><td>0</td><td>0</td><td>0</td><td>0</td><td>0</td><td>0</td><td>0</td><td>0</td><td>0</td><td>0</td></tr></tbody></table></div>"
      ]
     },
     "metadata": {
      "application/vnd.databricks.v1+output": {
       "addedWidgets": {},
       "aggData": [],
       "aggError": "",
       "aggOverflow": false,
       "aggSchema": [],
       "aggSeriesLimitReached": false,
       "aggType": "",
       "arguments": {},
       "columnCustomDisplayInfos": {},
       "data": [
        [
         0,
         0,
         25957560,
         0,
         25957172,
         0,
         0,
         0,
         0,
         0,
         0,
         0,
         0,
         0,
         0,
         0,
         0,
         0,
         0,
         0,
         0,
         0,
         0,
         0,
         0,
         0,
         0,
         0,
         0,
         0,
         0
        ]
       ],
       "datasetInfos": [],
       "dbfsResultPath": null,
       "isJsonSchema": true,
       "metadata": {},
       "overflow": false,
       "plotOptions": {
        "customPlotOptions": {},
        "displayType": "table",
        "pivotAggregation": null,
        "pivotColumns": null,
        "xColumns": null,
        "yColumns": null
       },
       "removedWidgets": [],
       "schema": [
        {
         "metadata": "{}",
         "name": "hvfhs_license_num",
         "type": "\"long\""
        },
        {
         "metadata": "{}",
         "name": "dispatching_base_num",
         "type": "\"long\""
        },
        {
         "metadata": "{}",
         "name": "originating_base_num",
         "type": "\"long\""
        },
        {
         "metadata": "{}",
         "name": "request_datetime",
         "type": "\"long\""
        },
        {
         "metadata": "{}",
         "name": "on_scene_datetime",
         "type": "\"long\""
        },
        {
         "metadata": "{}",
         "name": "pickup_datetime",
         "type": "\"long\""
        },
        {
         "metadata": "{}",
         "name": "dropoff_datetime",
         "type": "\"long\""
        },
        {
         "metadata": "{}",
         "name": "PULocationID",
         "type": "\"long\""
        },
        {
         "metadata": "{}",
         "name": "DOLocationID",
         "type": "\"long\""
        },
        {
         "metadata": "{}",
         "name": "trip_miles",
         "type": "\"long\""
        },
        {
         "metadata": "{}",
         "name": "trip_time",
         "type": "\"long\""
        },
        {
         "metadata": "{}",
         "name": "base_passenger_fare",
         "type": "\"long\""
        },
        {
         "metadata": "{}",
         "name": "tolls",
         "type": "\"long\""
        },
        {
         "metadata": "{}",
         "name": "bcf",
         "type": "\"long\""
        },
        {
         "metadata": "{}",
         "name": "sales_tax",
         "type": "\"long\""
        },
        {
         "metadata": "{}",
         "name": "congestion_surcharge",
         "type": "\"long\""
        },
        {
         "metadata": "{}",
         "name": "airport_fee",
         "type": "\"long\""
        },
        {
         "metadata": "{}",
         "name": "tips",
         "type": "\"long\""
        },
        {
         "metadata": "{}",
         "name": "driver_pay",
         "type": "\"long\""
        },
        {
         "metadata": "{}",
         "name": "shared_request_flag",
         "type": "\"long\""
        },
        {
         "metadata": "{}",
         "name": "shared_match_flag",
         "type": "\"long\""
        },
        {
         "metadata": "{}",
         "name": "access_a_ride_flag",
         "type": "\"long\""
        },
        {
         "metadata": "{}",
         "name": "wav_request_flag",
         "type": "\"long\""
        },
        {
         "metadata": "{}",
         "name": "wav_match_flag",
         "type": "\"long\""
        },
        {
         "metadata": "{}",
         "name": "date",
         "type": "\"long\""
        },
        {
         "metadata": "{}",
         "name": "year",
         "type": "\"long\""
        },
        {
         "metadata": "{}",
         "name": "month",
         "type": "\"long\""
        },
        {
         "metadata": "{}",
         "name": "day_of_month",
         "type": "\"long\""
        },
        {
         "metadata": "{}",
         "name": "day_of_week",
         "type": "\"long\""
        },
        {
         "metadata": "{}",
         "name": "is_weekend",
         "type": "\"long\""
        },
        {
         "metadata": "{}",
         "name": "trip_duration",
         "type": "\"long\""
        }
       ],
       "type": "table"
      }
     },
     "output_type": "display_data"
    }
   ],
   "source": [
    "# Count null values in each column\n",
    "display(HVFHV_df.select([sum(col(c).isNull().cast(\"integer\")).alias(c) for c in HVFHV_df.columns]))"
   ]
  },
  {
   "cell_type": "code",
   "execution_count": 0,
   "metadata": {
    "application/vnd.databricks.v1+cell": {
     "cellMetadata": {
      "byteLimit": 2048000,
      "rowLimit": 10000
     },
     "inputWidgets": {},
     "nuid": "bfeac832-7ef8-4d97-ba4a-59a66216b72a",
     "showTitle": false,
     "title": ""
    }
   },
   "outputs": [],
   "source": [
    "# Write HVHFV DataFrame to parquet files partitioned by year, month, and day\n",
    "HVFHV_df = HVFHV_df.withColumn(\"year_\", col(\"year\"))\n",
    "HVFHV_df = HVFHV_df.withColumn(\"month_\", col(\"month\"))\n",
    "HVFHV_df = HVFHV_df.withColumn(\"day_\", col(\"day_of_month\"))\n",
    "\n",
    "HVFHV_parquet_path = f\"s3a://capstone-techcatalyst-conformed/group4/hvfhv_data/\"\n",
    "\n",
    "HVFHV_df.write.partitionBy([\"year_\", \"month_\", \"day_\"]).parquet(HVFHV_parquet_path)"
   ]
  }
 ],
 "metadata": {
  "application/vnd.databricks.v1+notebook": {
   "dashboards": [],
   "environmentMetadata": null,
   "language": "python",
   "notebookMetadata": {
    "pythonIndentUnit": 4
   },
   "notebookName": "HVFHV",
   "widgets": {}
  }
 },
 "nbformat": 4,
 "nbformat_minor": 0
}
