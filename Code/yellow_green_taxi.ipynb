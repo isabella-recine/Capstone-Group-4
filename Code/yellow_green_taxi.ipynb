{
 "cells": [
  {
   "cell_type": "code",
   "execution_count": 2,
   "metadata": {
    "application/vnd.databricks.v1+cell": {
     "cellMetadata": {
      "byteLimit": 2048000,
      "rowLimit": 10000
     },
     "inputWidgets": {},
     "nuid": "aa6f1b2b-58be-47b2-9ddd-8c4a2865896c",
     "showTitle": false,
     "title": ""
    }
   },
   "outputs": [
    {
     "ename": "ModuleNotFoundError",
     "evalue": "No module named 'pyspark'",
     "output_type": "error",
     "traceback": [
      "\u001b[0;31m---------------------------------------------------------------------------\u001b[0m",
      "\u001b[0;31mModuleNotFoundError\u001b[0m                       Traceback (most recent call last)",
      "Cell \u001b[0;32mIn[2], line 1\u001b[0m\n\u001b[0;32m----> 1\u001b[0m \u001b[38;5;28;01mfrom\u001b[39;00m \u001b[38;5;21;01mpyspark\u001b[39;00m\u001b[38;5;21;01m.\u001b[39;00m\u001b[38;5;21;01msql\u001b[39;00m \u001b[38;5;28;01mimport\u001b[39;00m SparkSession\n\u001b[1;32m      2\u001b[0m \u001b[38;5;28;01mfrom\u001b[39;00m \u001b[38;5;21;01mpyspark\u001b[39;00m\u001b[38;5;21;01m.\u001b[39;00m\u001b[38;5;21;01msql\u001b[39;00m\u001b[38;5;21;01m.\u001b[39;00m\u001b[38;5;21;01mfunctions\u001b[39;00m \u001b[38;5;28;01mimport\u001b[39;00m \u001b[38;5;241m*\u001b[39m\n",
      "\u001b[0;31mModuleNotFoundError\u001b[0m: No module named 'pyspark'"
     ]
    }
   ],
   "source": [
    "from pyspark.sql import SparkSession\n",
    "from pyspark.sql.functions import *\n"
   ]
  },
  {
   "cell_type": "code",
   "execution_count": 3,
   "metadata": {
    "application/vnd.databricks.v1+cell": {
     "cellMetadata": {
      "byteLimit": 2048000,
      "rowLimit": 10000
     },
     "inputWidgets": {},
     "nuid": "f882b870-f041-4243-a580-c0f92dda5fbc",
     "showTitle": false,
     "title": ""
    }
   },
   "outputs": [
    {
     "ename": "NameError",
     "evalue": "name 'spark' is not defined",
     "output_type": "error",
     "traceback": [
      "\u001b[0;31m---------------------------------------------------------------------------\u001b[0m",
      "\u001b[0;31mNameError\u001b[0m                                 Traceback (most recent call last)",
      "Cell \u001b[0;32mIn[3], line 2\u001b[0m\n\u001b[1;32m      1\u001b[0m \u001b[38;5;66;03m# Load AWS Credentials\u001b[39;00m\n\u001b[0;32m----> 2\u001b[0m \u001b[43mspark\u001b[49m\u001b[38;5;241m.\u001b[39mconf\u001b[38;5;241m.\u001b[39mset(\u001b[38;5;124m\"\u001b[39m\u001b[38;5;124mfs.s3a.access.key\u001b[39m\u001b[38;5;124m\"\u001b[39m, \u001b[38;5;124m\"\u001b[39m\u001b[38;5;124mAKIAXZGJ4UHYSQSIH6DF\u001b[39m\u001b[38;5;124m\"\u001b[39m)\n\u001b[1;32m      3\u001b[0m spark\u001b[38;5;241m.\u001b[39mconf\u001b[38;5;241m.\u001b[39mset(\u001b[38;5;124m\"\u001b[39m\u001b[38;5;124mfs.s3a.secret.key\u001b[39m\u001b[38;5;124m\"\u001b[39m, \u001b[38;5;124m\"\u001b[39m\u001b[38;5;124mVwEVll8IBVYHkQyO6Y97uH8G0dhmnvhENLKS0H8D\u001b[39m\u001b[38;5;124m\"\u001b[39m)\n",
      "\u001b[0;31mNameError\u001b[0m: name 'spark' is not defined"
     ]
    }
   ],
   "source": [
    "# Load AWS Credentials\n",
    "spark.conf.set(\"fs.s3a.access.key\", \"jyhfjyfij")\n",
    "spark.conf.set(\"fs.s3a.secret.key\", \"kugikugkug")"
   ]
  },
  {
   "cell_type": "code",
   "execution_count": null,
   "metadata": {
    "application/vnd.databricks.v1+cell": {
     "cellMetadata": {
      "byteLimit": 2048000,
      "rowLimit": 10000
     },
     "inputWidgets": {},
     "nuid": "8b64cddc-e8c3-49a6-9c75-7416fb732a3a",
     "showTitle": false,
     "title": ""
    }
   },
   "outputs": [],
   "source": [
    "# Read Yellow and Green Taxi DataFrames and drop duplicate rows\n",
    "yellow_taxi_df = spark.read.option(\"recursiveFileLookup\", \"true\").parquet(\"s3://capstone-techcatalyst-raw/yellow_taxi/*\",multiLine=True, encoding=\"utf8\").drop_duplicates()\n",
    "green_taxi_df = spark.read.option(\"recursiveFileLookup\", \"true\").parquet(\"s3://capstone-techcatalyst-raw/green_taxi/*\",multiLine=True, encoding=\"utf8\").drop_duplicates()"
   ]
  },
  {
   "cell_type": "code",
   "execution_count": null,
   "metadata": {
    "application/vnd.databricks.v1+cell": {
     "cellMetadata": {
      "byteLimit": 2048000,
      "rowLimit": 10000
     },
     "inputWidgets": {},
     "nuid": "43014efc-f38e-4828-8567-104b42964e0d",
     "showTitle": false,
     "title": ""
    }
   },
   "outputs": [],
   "source": [
    "# Fill null values based on assumptions \n",
    "yellow_taxi_df = yellow_taxi_df.fillna({'passenger_count':1, 'congestion_surcharge':0, 'Airport_fee':0})\n",
    "green_taxi_df = green_taxi_df.fillna({'passenger_count':1, 'congestion_surcharge':0})"
   ]
  },
  {
   "cell_type": "code",
   "execution_count": null,
   "metadata": {
    "application/vnd.databricks.v1+cell": {
     "cellMetadata": {
      "byteLimit": 2048000,
      "rowLimit": 10000
     },
     "inputWidgets": {},
     "nuid": "421c1529-bd64-4c7f-9ee6-ae3830d7d9ae",
     "showTitle": false,
     "title": ""
    }
   },
   "outputs": [],
   "source": [
    "# Rename pickup and dropoff column names to match for both DataFrames\n",
    "yellow_taxi_df = yellow_taxi_df.withColumnRenamed(\"tpep_pickup_datetime\", \"pickup_datetime\").withColumnRenamed(\"tpep_dropoff_datetime\", \"dropoff_datetime\")\n",
    "green_taxi_df = green_taxi_df.withColumnRenamed(\"lpep_pickup_datetime\", \"pickup_datetime\").withColumnRenamed(\"lpep_dropoff_datetime\", \"dropoff_datetime\")\n",
    "\n",
    "# Add columns that are in one DataFrame but not the other\n",
    "# Add a Taxi_Type column (Yellow or Green)\n",
    "green_taxi_df = green_taxi_df.withColumn(\"Airport_fee\", lit(None)).withColumn(\"Taxi_Type\", lit(\"Green\"))\n",
    "yellow_taxi_df = yellow_taxi_df.withColumn(\"ehail_fee\", lit(None)).withColumn(\"trip_type\", lit(None)).withColumn(\"Taxi_Type\", lit(\"Yellow\"))\n",
    "\n",
    "# Combine the yellow and green taxi DataFrames into one DataFrame based on column names\n",
    "taxi_df = yellow_taxi_df.unionByName(green_taxi_df)"
   ]
  },
  {
   "cell_type": "code",
   "execution_count": null,
   "metadata": {
    "application/vnd.databricks.v1+cell": {
     "cellMetadata": {
      "byteLimit": 2048000,
      "rowLimit": 10000
     },
     "inputWidgets": {},
     "nuid": "b3052189-ee26-4c35-b353-18876380de24",
     "showTitle": false,
     "title": ""
    }
   },
   "outputs": [],
   "source": [
    "# Create datetime column called \"date\" based on the pickup date\n",
    "taxi_df = taxi_df.withColumn(\"date\", taxi_df[\"pickup_datetime\"].cast(\"date\"))"
   ]
  },
  {
   "cell_type": "code",
   "execution_count": null,
   "metadata": {
    "application/vnd.databricks.v1+cell": {
     "cellMetadata": {
      "byteLimit": 2048000,
      "rowLimit": 10000
     },
     "inputWidgets": {},
     "nuid": "1dd08b2d-69a0-4e61-ae51-bdcaa811bdf4",
     "showTitle": false,
     "title": ""
    }
   },
   "outputs": [],
   "source": [
    "# Add additional date feature columns based on the date column\n",
    "taxi_df = taxi_df.withColumn(\"year\", date_format('date', 'yyyy'))\n",
    "taxi_df = taxi_df.withColumn(\"month\", date_format('date', 'MM'))\n",
    "taxi_df = taxi_df.withColumn(\"day_of_month\", dayofmonth('date'))\n",
    "taxi_df = taxi_df.withColumn(\"day_of_week\", date_format('date', 'EEEE')) \n",
    "taxi_df = taxi_df.withColumn(\"is_weekend\", dayofweek(\"date\").isin([1,7]).cast(\"boolean\"))\n",
    "taxi_df = taxi_df.withColumn('trip_duration', (unix_timestamp('dropoff_datetime') - unix_timestamp('pickup_datetime'))/60)\n",
    "\n",
    "# Filter DataFrame to only include rows where the date is between September 2023 - May 2024\n",
    "taxi_df = taxi_df.filter(taxi_df[\"date\"].between(\"2023-09-01\", \"2024-05-31\"))  "
   ]
  },
  {
   "cell_type": "code",
   "execution_count": null,
   "metadata": {
    "application/vnd.databricks.v1+cell": {
     "cellMetadata": {
      "byteLimit": 2048000,
      "rowLimit": 10000
     },
     "inputWidgets": {},
     "nuid": "395302e6-d52c-433c-b6f9-aad1b50a3046",
     "showTitle": false,
     "title": ""
    }
   },
   "outputs": [
    {
     "data": {
      "text/html": [
       "<style scoped>\n",
       "  .table-result-container {\n",
       "    max-height: 300px;\n",
       "    overflow: auto;\n",
       "  }\n",
       "  table, th, td {\n",
       "    border: 1px solid black;\n",
       "    border-collapse: collapse;\n",
       "  }\n",
       "  th, td {\n",
       "    padding: 5px;\n",
       "  }\n",
       "  th {\n",
       "    text-align: left;\n",
       "  }\n",
       "</style><div class='table-result-container'><table class='table-result'><thead style='background-color: white'><tr><th>VendorID</th><th>pickup_datetime</th><th>dropoff_datetime</th><th>passenger_count</th><th>trip_distance</th><th>RatecodeID</th><th>store_and_fwd_flag</th><th>PULocationID</th><th>DOLocationID</th><th>payment_type</th><th>fare_amount</th><th>extra</th><th>mta_tax</th><th>tip_amount</th><th>tolls_amount</th><th>improvement_surcharge</th><th>total_amount</th><th>congestion_surcharge</th><th>Airport_fee</th><th>ehail_fee</th><th>trip_type</th><th>Taxi_Type</th><th>date</th><th>year</th><th>month</th><th>day_of_month</th><th>day_of_week</th><th>is_weekend</th><th>trip_duration</th></tr></thead><tbody><tr><td>0</td><td>0</td><td>0</td><td>0</td><td>0</td><td>2204270</td><td>2204270</td><td>0</td><td>0</td><td>31234</td><td>0</td><td>0</td><td>0</td><td>0</td><td>0</td><td>0</td><td>0</td><td>0</td><td>544905</td><td>30423026</td><td>29909403</td><td>0</td><td>0</td><td>0</td><td>0</td><td>0</td><td>0</td><td>0</td><td>0</td></tr></tbody></table></div>"
      ]
     },
     "metadata": {
      "application/vnd.databricks.v1+output": {
       "addedWidgets": {},
       "aggData": [],
       "aggError": "",
       "aggOverflow": false,
       "aggSchema": [],
       "aggSeriesLimitReached": false,
       "aggType": "",
       "arguments": {},
       "columnCustomDisplayInfos": {},
       "data": [
        [
         0,
         0,
         0,
         0,
         0,
         2204270,
         2204270,
         0,
         0,
         31234,
         0,
         0,
         0,
         0,
         0,
         0,
         0,
         0,
         544905,
         30423026,
         29909403,
         0,
         0,
         0,
         0,
         0,
         0,
         0,
         0
        ]
       ],
       "datasetInfos": [],
       "dbfsResultPath": null,
       "isJsonSchema": true,
       "metadata": {},
       "overflow": false,
       "plotOptions": {
        "customPlotOptions": {},
        "displayType": "table",
        "pivotAggregation": null,
        "pivotColumns": null,
        "xColumns": null,
        "yColumns": null
       },
       "removedWidgets": [],
       "schema": [
        {
         "metadata": "{}",
         "name": "VendorID",
         "type": "\"long\""
        },
        {
         "metadata": "{}",
         "name": "pickup_datetime",
         "type": "\"long\""
        },
        {
         "metadata": "{}",
         "name": "dropoff_datetime",
         "type": "\"long\""
        },
        {
         "metadata": "{}",
         "name": "passenger_count",
         "type": "\"long\""
        },
        {
         "metadata": "{}",
         "name": "trip_distance",
         "type": "\"long\""
        },
        {
         "metadata": "{}",
         "name": "RatecodeID",
         "type": "\"long\""
        },
        {
         "metadata": "{}",
         "name": "store_and_fwd_flag",
         "type": "\"long\""
        },
        {
         "metadata": "{}",
         "name": "PULocationID",
         "type": "\"long\""
        },
        {
         "metadata": "{}",
         "name": "DOLocationID",
         "type": "\"long\""
        },
        {
         "metadata": "{}",
         "name": "payment_type",
         "type": "\"long\""
        },
        {
         "metadata": "{}",
         "name": "fare_amount",
         "type": "\"long\""
        },
        {
         "metadata": "{}",
         "name": "extra",
         "type": "\"long\""
        },
        {
         "metadata": "{}",
         "name": "mta_tax",
         "type": "\"long\""
        },
        {
         "metadata": "{}",
         "name": "tip_amount",
         "type": "\"long\""
        },
        {
         "metadata": "{}",
         "name": "tolls_amount",
         "type": "\"long\""
        },
        {
         "metadata": "{}",
         "name": "improvement_surcharge",
         "type": "\"long\""
        },
        {
         "metadata": "{}",
         "name": "total_amount",
         "type": "\"long\""
        },
        {
         "metadata": "{}",
         "name": "congestion_surcharge",
         "type": "\"long\""
        },
        {
         "metadata": "{}",
         "name": "Airport_fee",
         "type": "\"long\""
        },
        {
         "metadata": "{}",
         "name": "ehail_fee",
         "type": "\"long\""
        },
        {
         "metadata": "{}",
         "name": "trip_type",
         "type": "\"long\""
        },
        {
         "metadata": "{}",
         "name": "Taxi_Type",
         "type": "\"long\""
        },
        {
         "metadata": "{}",
         "name": "date",
         "type": "\"long\""
        },
        {
         "metadata": "{}",
         "name": "year",
         "type": "\"long\""
        },
        {
         "metadata": "{}",
         "name": "month",
         "type": "\"long\""
        },
        {
         "metadata": "{}",
         "name": "day_of_month",
         "type": "\"long\""
        },
        {
         "metadata": "{}",
         "name": "day_of_week",
         "type": "\"long\""
        },
        {
         "metadata": "{}",
         "name": "is_weekend",
         "type": "\"long\""
        },
        {
         "metadata": "{}",
         "name": "trip_duration",
         "type": "\"long\""
        }
       ],
       "type": "table"
      }
     },
     "output_type": "display_data"
    }
   ],
   "source": [
    "# Count null values in each column\n",
    "display(taxi_df.select([sum(col(c).isNull().cast(\"integer\")).alias(c) for c in taxi_df.columns]))"
   ]
  },
  {
   "cell_type": "code",
   "execution_count": null,
   "metadata": {
    "application/vnd.databricks.v1+cell": {
     "cellMetadata": {
      "byteLimit": 2048000,
      "rowLimit": 10000
     },
     "inputWidgets": {},
     "nuid": "0f4931b6-8b38-4078-abe4-318f3fbc923e",
     "showTitle": false,
     "title": ""
    }
   },
   "outputs": [],
   "source": [
    "# Write taxi DataFrame to parquet files partitioned by year, month, and taxi type\n",
    "taxi_df = taxi_df.withColumn(\"year_\", col(\"year\"))\n",
    "taxi_df = taxi_df.withColumn(\"month_\", col(\"month\"))\n",
    "taxi_df = taxi_df.withColumn(\"taxi_type_\", col(\"Taxi_Type\"))\n",
    "\n",
    "taxi_parquet_path = f\"s3a://capstone-techcatalyst-conformed/group4/taxi_data/\"\n",
    "\n",
    "taxi_df.write.partitionBy([\"year_\", \"month_\", \"taxi_type_\"]).parquet(taxi_parquet_path)"
   ]
  }
 ],
 "metadata": {
  "application/vnd.databricks.v1+notebook": {
   "dashboards": [],
   "environmentMetadata": null,
   "language": "python",
   "notebookMetadata": {
    "pythonIndentUnit": 4
   },
   "notebookName": "main",
   "widgets": {}
  },
  "kernelspec": {
   "display_name": "Python 3",
   "language": "python",
   "name": "python3"
  },
  "language_info": {
   "codemirror_mode": {
    "name": "ipython",
    "version": 3
   },
   "file_extension": ".py",
   "mimetype": "text/x-python",
   "name": "python",
   "nbconvert_exporter": "python",
   "pygments_lexer": "ipython3",
   "version": "3.10.13"
  }
 },
 "nbformat": 4,
 "nbformat_minor": 0
}
